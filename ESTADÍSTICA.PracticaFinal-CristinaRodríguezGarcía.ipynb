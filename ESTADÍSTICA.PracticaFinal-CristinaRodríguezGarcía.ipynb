{
 "cells": [
  {
   "cell_type": "code",
   "execution_count": 1,
   "metadata": {},
   "outputs": [],
   "source": [
    "library(ggplot2)\n",
    "options(repr.plot.height=4,repr.plot.width=6)"
   ]
  },
  {
   "cell_type": "markdown",
   "metadata": {},
   "source": [
    "Cargar los datos en un dataframe llamado: airbnb"
   ]
  },
  {
   "cell_type": "code",
   "execution_count": 2,
   "metadata": {},
   "outputs": [],
   "source": [
    "airbnb<-read.csv('data//airbnb.csv',sep = ',', stringsAsFactors = T)"
   ]
  },
  {
   "cell_type": "markdown",
   "metadata": {},
   "source": [
    "Mostrar las primeras 6 filas del dataframe"
   ]
  },
  {
   "cell_type": "code",
   "execution_count": 3,
   "metadata": {
    "scrolled": true
   },
   "outputs": [
    {
     "data": {
      "text/html": [
       "<table class=\"dataframe\">\n",
       "<caption>A data.frame: 6 × 13</caption>\n",
       "<thead>\n",
       "\t<tr><th></th><th scope=col>Zipcode</th><th scope=col>Neighbourhood.Cleansed</th><th scope=col>Property.Type</th><th scope=col>Room.Type</th><th scope=col>Accommodates</th><th scope=col>Bathrooms</th><th scope=col>Bedrooms</th><th scope=col>Beds</th><th scope=col>Bed.Type</th><th scope=col>Amenities</th><th scope=col>Square.Feet</th><th scope=col>Price</th><th scope=col>Review.Scores.Rating</th></tr>\n",
       "\t<tr><th></th><th scope=col>&lt;fct&gt;</th><th scope=col>&lt;fct&gt;</th><th scope=col>&lt;fct&gt;</th><th scope=col>&lt;fct&gt;</th><th scope=col>&lt;int&gt;</th><th scope=col>&lt;dbl&gt;</th><th scope=col>&lt;int&gt;</th><th scope=col>&lt;int&gt;</th><th scope=col>&lt;fct&gt;</th><th scope=col>&lt;fct&gt;</th><th scope=col>&lt;int&gt;</th><th scope=col>&lt;int&gt;</th><th scope=col>&lt;int&gt;</th></tr>\n",
       "</thead>\n",
       "<tbody>\n",
       "\t<tr><th scope=row>1</th><td>28004</td><td>Universidad</td><td>Apartment</td><td>Private room   </td><td>2</td><td>2</td><td>1</td><td>1</td><td>Real Bed</td><td>TV,Wireless Internet,Kitchen,Pets allowed,Pets live on this property,Buzzer/wireless intercom,Heating,Suitable for events,Washer,First aid kit,Essentials,Lock on bedroom door,Iron                                                                                                                                                                             </td><td> NA</td><td>35</td><td> NA</td></tr>\n",
       "\t<tr><th scope=row>2</th><td>28004</td><td>Universidad</td><td>Apartment</td><td>Entire home/apt</td><td>6</td><td>1</td><td>3</td><td>5</td><td>Real Bed</td><td>TV,Internet,Wireless Internet,Air conditioning,Kitchen,Indoor fireplace,Heating,Family/kid friendly,Washer,Dryer,Smoke detector,Carbon monoxide detector,Essentials,Shampoo                                                                                                                                                                                     </td><td> NA</td><td>92</td><td> 96</td></tr>\n",
       "\t<tr><th scope=row>3</th><td>28004</td><td>Universidad</td><td>Apartment</td><td>Entire home/apt</td><td>3</td><td>1</td><td>2</td><td>2</td><td>Real Bed</td><td>TV,Internet,Wireless Internet,Air conditioning,Kitchen,Doorman,Heating,Family/kid friendly,Washer,Essentials,Shampoo,Hangers,Hair dryer,Iron,Laptop friendly workspace                                                                                                                                                                                          </td><td> NA</td><td>55</td><td> 91</td></tr>\n",
       "\t<tr><th scope=row>4</th><td>28004</td><td>Universidad</td><td>Loft     </td><td>Entire home/apt</td><td>3</td><td>2</td><td>1</td><td>1</td><td>Real Bed</td><td>TV,Internet,Wireless Internet,Air conditioning,Kitchen,Pets allowed,Breakfast,Elevator in building,Indoor fireplace,Buzzer/wireless intercom,Heating,Washer,Essentials,Shampoo,Hangers,Hair dryer,Iron,Laptop friendly workspace,translation missing: en.hosting_amenity_49,translation missing: en.hosting_amenity_50                                          </td><td> NA</td><td>60</td><td>100</td></tr>\n",
       "\t<tr><th scope=row>5</th><td>28015</td><td>Universidad</td><td>Apartment</td><td>Entire home/apt</td><td>5</td><td>1</td><td>1</td><td>1</td><td>Real Bed</td><td>TV,Wireless Internet,Air conditioning,Kitchen,Smoking allowed,Pets allowed,Elevator in building,Heating,Family/kid friendly,Washer,Essentials,Iron                                                                                                                                                                                                              </td><td>538</td><td>75</td><td> 90</td></tr>\n",
       "\t<tr><th scope=row>6</th><td>28004</td><td>Universidad</td><td>Apartment</td><td>Entire home/apt</td><td>2</td><td>1</td><td>0</td><td>1</td><td>Real Bed</td><td>TV,Cable TV,Internet,Wireless Internet,Air conditioning,Wheelchair accessible,Kitchen,Doorman,Elevator in building,Buzzer/wireless intercom,Heating,Washer,Smoke detector,Carbon monoxide detector,First aid kit,Safety card,Fire extinguisher,Essentials,Shampoo,24-hour check-in,Hangers,Hair dryer,Iron,Laptop friendly workspace,Self Check-In,Doorman Entry</td><td> NA</td><td>55</td><td> 95</td></tr>\n",
       "</tbody>\n",
       "</table>\n"
      ],
      "text/latex": [
       "A data.frame: 6 × 13\n",
       "\\begin{tabular}{r|lllllllllllll}\n",
       "  & Zipcode & Neighbourhood.Cleansed & Property.Type & Room.Type & Accommodates & Bathrooms & Bedrooms & Beds & Bed.Type & Amenities & Square.Feet & Price & Review.Scores.Rating\\\\\n",
       "  & <fct> & <fct> & <fct> & <fct> & <int> & <dbl> & <int> & <int> & <fct> & <fct> & <int> & <int> & <int>\\\\\n",
       "\\hline\n",
       "\t1 & 28004 & Universidad & Apartment & Private room    & 2 & 2 & 1 & 1 & Real Bed & TV,Wireless Internet,Kitchen,Pets allowed,Pets live on this property,Buzzer/wireless intercom,Heating,Suitable for events,Washer,First aid kit,Essentials,Lock on bedroom door,Iron                                                                                                                                                                              &  NA & 35 &  NA\\\\\n",
       "\t2 & 28004 & Universidad & Apartment & Entire home/apt & 6 & 1 & 3 & 5 & Real Bed & TV,Internet,Wireless Internet,Air conditioning,Kitchen,Indoor fireplace,Heating,Family/kid friendly,Washer,Dryer,Smoke detector,Carbon monoxide detector,Essentials,Shampoo                                                                                                                                                                                      &  NA & 92 &  96\\\\\n",
       "\t3 & 28004 & Universidad & Apartment & Entire home/apt & 3 & 1 & 2 & 2 & Real Bed & TV,Internet,Wireless Internet,Air conditioning,Kitchen,Doorman,Heating,Family/kid friendly,Washer,Essentials,Shampoo,Hangers,Hair dryer,Iron,Laptop friendly workspace                                                                                                                                                                                           &  NA & 55 &  91\\\\\n",
       "\t4 & 28004 & Universidad & Loft      & Entire home/apt & 3 & 2 & 1 & 1 & Real Bed & TV,Internet,Wireless Internet,Air conditioning,Kitchen,Pets allowed,Breakfast,Elevator in building,Indoor fireplace,Buzzer/wireless intercom,Heating,Washer,Essentials,Shampoo,Hangers,Hair dryer,Iron,Laptop friendly workspace,translation missing: en.hosting\\_amenity\\_49,translation missing: en.hosting\\_amenity\\_50                                           &  NA & 60 & 100\\\\\n",
       "\t5 & 28015 & Universidad & Apartment & Entire home/apt & 5 & 1 & 1 & 1 & Real Bed & TV,Wireless Internet,Air conditioning,Kitchen,Smoking allowed,Pets allowed,Elevator in building,Heating,Family/kid friendly,Washer,Essentials,Iron                                                                                                                                                                                                               & 538 & 75 &  90\\\\\n",
       "\t6 & 28004 & Universidad & Apartment & Entire home/apt & 2 & 1 & 0 & 1 & Real Bed & TV,Cable TV,Internet,Wireless Internet,Air conditioning,Wheelchair accessible,Kitchen,Doorman,Elevator in building,Buzzer/wireless intercom,Heating,Washer,Smoke detector,Carbon monoxide detector,First aid kit,Safety card,Fire extinguisher,Essentials,Shampoo,24-hour check-in,Hangers,Hair dryer,Iron,Laptop friendly workspace,Self Check-In,Doorman Entry &  NA & 55 &  95\\\\\n",
       "\\end{tabular}\n"
      ],
      "text/markdown": [
       "\n",
       "A data.frame: 6 × 13\n",
       "\n",
       "| <!--/--> | Zipcode &lt;fct&gt; | Neighbourhood.Cleansed &lt;fct&gt; | Property.Type &lt;fct&gt; | Room.Type &lt;fct&gt; | Accommodates &lt;int&gt; | Bathrooms &lt;dbl&gt; | Bedrooms &lt;int&gt; | Beds &lt;int&gt; | Bed.Type &lt;fct&gt; | Amenities &lt;fct&gt; | Square.Feet &lt;int&gt; | Price &lt;int&gt; | Review.Scores.Rating &lt;int&gt; |\n",
       "|---|---|---|---|---|---|---|---|---|---|---|---|---|---|\n",
       "| 1 | 28004 | Universidad | Apartment | Private room    | 2 | 2 | 1 | 1 | Real Bed | TV,Wireless Internet,Kitchen,Pets allowed,Pets live on this property,Buzzer/wireless intercom,Heating,Suitable for events,Washer,First aid kit,Essentials,Lock on bedroom door,Iron                                                                                                                                                                              |  NA | 35 |  NA |\n",
       "| 2 | 28004 | Universidad | Apartment | Entire home/apt | 6 | 1 | 3 | 5 | Real Bed | TV,Internet,Wireless Internet,Air conditioning,Kitchen,Indoor fireplace,Heating,Family/kid friendly,Washer,Dryer,Smoke detector,Carbon monoxide detector,Essentials,Shampoo                                                                                                                                                                                      |  NA | 92 |  96 |\n",
       "| 3 | 28004 | Universidad | Apartment | Entire home/apt | 3 | 1 | 2 | 2 | Real Bed | TV,Internet,Wireless Internet,Air conditioning,Kitchen,Doorman,Heating,Family/kid friendly,Washer,Essentials,Shampoo,Hangers,Hair dryer,Iron,Laptop friendly workspace                                                                                                                                                                                           |  NA | 55 |  91 |\n",
       "| 4 | 28004 | Universidad | Loft      | Entire home/apt | 3 | 2 | 1 | 1 | Real Bed | TV,Internet,Wireless Internet,Air conditioning,Kitchen,Pets allowed,Breakfast,Elevator in building,Indoor fireplace,Buzzer/wireless intercom,Heating,Washer,Essentials,Shampoo,Hangers,Hair dryer,Iron,Laptop friendly workspace,translation missing: en.hosting_amenity_49,translation missing: en.hosting_amenity_50                                           |  NA | 60 | 100 |\n",
       "| 5 | 28015 | Universidad | Apartment | Entire home/apt | 5 | 1 | 1 | 1 | Real Bed | TV,Wireless Internet,Air conditioning,Kitchen,Smoking allowed,Pets allowed,Elevator in building,Heating,Family/kid friendly,Washer,Essentials,Iron                                                                                                                                                                                                               | 538 | 75 |  90 |\n",
       "| 6 | 28004 | Universidad | Apartment | Entire home/apt | 2 | 1 | 0 | 1 | Real Bed | TV,Cable TV,Internet,Wireless Internet,Air conditioning,Wheelchair accessible,Kitchen,Doorman,Elevator in building,Buzzer/wireless intercom,Heating,Washer,Smoke detector,Carbon monoxide detector,First aid kit,Safety card,Fire extinguisher,Essentials,Shampoo,24-hour check-in,Hangers,Hair dryer,Iron,Laptop friendly workspace,Self Check-In,Doorman Entry |  NA | 55 |  95 |\n",
       "\n"
      ],
      "text/plain": [
       "  Zipcode Neighbourhood.Cleansed Property.Type Room.Type       Accommodates\n",
       "1 28004   Universidad            Apartment     Private room    2           \n",
       "2 28004   Universidad            Apartment     Entire home/apt 6           \n",
       "3 28004   Universidad            Apartment     Entire home/apt 3           \n",
       "4 28004   Universidad            Loft          Entire home/apt 3           \n",
       "5 28015   Universidad            Apartment     Entire home/apt 5           \n",
       "6 28004   Universidad            Apartment     Entire home/apt 2           \n",
       "  Bathrooms Bedrooms Beds Bed.Type\n",
       "1 2         1        1    Real Bed\n",
       "2 1         3        5    Real Bed\n",
       "3 1         2        2    Real Bed\n",
       "4 2         1        1    Real Bed\n",
       "5 1         1        1    Real Bed\n",
       "6 1         0        1    Real Bed\n",
       "  Amenities                                                                                                                                                                                                                                                                                                                                                       \n",
       "1 TV,Wireless Internet,Kitchen,Pets allowed,Pets live on this property,Buzzer/wireless intercom,Heating,Suitable for events,Washer,First aid kit,Essentials,Lock on bedroom door,Iron                                                                                                                                                                             \n",
       "2 TV,Internet,Wireless Internet,Air conditioning,Kitchen,Indoor fireplace,Heating,Family/kid friendly,Washer,Dryer,Smoke detector,Carbon monoxide detector,Essentials,Shampoo                                                                                                                                                                                     \n",
       "3 TV,Internet,Wireless Internet,Air conditioning,Kitchen,Doorman,Heating,Family/kid friendly,Washer,Essentials,Shampoo,Hangers,Hair dryer,Iron,Laptop friendly workspace                                                                                                                                                                                          \n",
       "4 TV,Internet,Wireless Internet,Air conditioning,Kitchen,Pets allowed,Breakfast,Elevator in building,Indoor fireplace,Buzzer/wireless intercom,Heating,Washer,Essentials,Shampoo,Hangers,Hair dryer,Iron,Laptop friendly workspace,translation missing: en.hosting_amenity_49,translation missing: en.hosting_amenity_50                                          \n",
       "5 TV,Wireless Internet,Air conditioning,Kitchen,Smoking allowed,Pets allowed,Elevator in building,Heating,Family/kid friendly,Washer,Essentials,Iron                                                                                                                                                                                                              \n",
       "6 TV,Cable TV,Internet,Wireless Internet,Air conditioning,Wheelchair accessible,Kitchen,Doorman,Elevator in building,Buzzer/wireless intercom,Heating,Washer,Smoke detector,Carbon monoxide detector,First aid kit,Safety card,Fire extinguisher,Essentials,Shampoo,24-hour check-in,Hangers,Hair dryer,Iron,Laptop friendly workspace,Self Check-In,Doorman Entry\n",
       "  Square.Feet Price Review.Scores.Rating\n",
       "1  NA         35     NA                 \n",
       "2  NA         92     96                 \n",
       "3  NA         55     91                 \n",
       "4  NA         60    100                 \n",
       "5 538         75     90                 \n",
       "6  NA         55     95                 "
      ]
     },
     "metadata": {},
     "output_type": "display_data"
    }
   ],
   "source": [
    "head(airbnb)"
   ]
  },
  {
   "cell_type": "markdown",
   "metadata": {},
   "source": [
    "Renombrar las columnas de la siguiente forma:\n",
    "\n",
    "| Nombre original | Nuevo nombre |\n",
    "| - | - |\n",
    "| Zipcode | CodigoPostal |\n",
    "| Neighbourhood.Cleansed | Barrio |\n",
    "| Property.Type\t| TipoPropiedad |\n",
    "| Room.Type | TipoAlquiler |\n",
    "| Accommodates | MaxOcupantes |\n",
    "| Bathrooms\t| NumBanyos |\n",
    "| Bedrooms\t| NumDormitorios |\n",
    "| Beds\t|  NumCamas |\n",
    "| Bed.Type\t| TipoCama |\n",
    "| Amenities | Comodidades |\n",
    "| Square.Feet | PiesCuadrados |\n",
    "| Price\t| Precio |\n",
    "| Review.Scores.Rating | Puntuacion |"
   ]
  },
  {
   "cell_type": "code",
   "execution_count": 4,
   "metadata": {},
   "outputs": [
    {
     "data": {
      "text/html": [
       "<style>\n",
       ".list-inline {list-style: none; margin:0; padding: 0}\n",
       ".list-inline>li {display: inline-block}\n",
       ".list-inline>li:not(:last-child)::after {content: \"\\00b7\"; padding: 0 .5ex}\n",
       "</style>\n",
       "<ol class=list-inline><li>'CodigoPostal'</li><li>'Barrio'</li><li>'TipoPropiedad'</li><li>'TipoAlquiler'</li><li>'MaxOcupantes'</li><li>'NumBanyos'</li><li>'NumDormitorios'</li><li>'NumCamas'</li><li>'TipoCama'</li><li>'Comodidades'</li><li>'PiesCuadrados'</li><li>'Precio'</li><li>'Puntuacion'</li></ol>\n"
      ],
      "text/latex": [
       "\\begin{enumerate*}\n",
       "\\item 'CodigoPostal'\n",
       "\\item 'Barrio'\n",
       "\\item 'TipoPropiedad'\n",
       "\\item 'TipoAlquiler'\n",
       "\\item 'MaxOcupantes'\n",
       "\\item 'NumBanyos'\n",
       "\\item 'NumDormitorios'\n",
       "\\item 'NumCamas'\n",
       "\\item 'TipoCama'\n",
       "\\item 'Comodidades'\n",
       "\\item 'PiesCuadrados'\n",
       "\\item 'Precio'\n",
       "\\item 'Puntuacion'\n",
       "\\end{enumerate*}\n"
      ],
      "text/markdown": [
       "1. 'CodigoPostal'\n",
       "2. 'Barrio'\n",
       "3. 'TipoPropiedad'\n",
       "4. 'TipoAlquiler'\n",
       "5. 'MaxOcupantes'\n",
       "6. 'NumBanyos'\n",
       "7. 'NumDormitorios'\n",
       "8. 'NumCamas'\n",
       "9. 'TipoCama'\n",
       "10. 'Comodidades'\n",
       "11. 'PiesCuadrados'\n",
       "12. 'Precio'\n",
       "13. 'Puntuacion'\n",
       "\n",
       "\n"
      ],
      "text/plain": [
       " [1] \"CodigoPostal\"   \"Barrio\"         \"TipoPropiedad\"  \"TipoAlquiler\"  \n",
       " [5] \"MaxOcupantes\"   \"NumBanyos\"      \"NumDormitorios\" \"NumCamas\"      \n",
       " [9] \"TipoCama\"       \"Comodidades\"    \"PiesCuadrados\"  \"Precio\"        \n",
       "[13] \"Puntuacion\"    "
      ]
     },
     "metadata": {},
     "output_type": "display_data"
    }
   ],
   "source": [
    "newnames<-c(\"CodigoPostal\",\"Barrio\",\"TipoPropiedad\",\"TipoAlquiler\",\"MaxOcupantes\",\"NumBanyos\",\n",
    "\"NumDormitorios\",\"NumCamas\",\"TipoCama\",\"Comodidades\",\"PiesCuadrados\",\"Precio\",\"Puntuacion\")\n",
    "\n",
    "colnames(airbnb) <- newnames\n",
    "colnames(airbnb)\n"
   ]
  },
  {
   "cell_type": "markdown",
   "metadata": {},
   "source": [
    "Crea una nueva columna llamada MetrosCuadrados a partir de la columna PiesCuadrados.\n",
    "\n",
    "Ayuda: 1 pie cuadrado son 0,092903 metros cuadrdados"
   ]
  },
  {
   "cell_type": "code",
   "execution_count": 5,
   "metadata": {},
   "outputs": [
    {
     "data": {
      "text/html": [
       "<table class=\"dataframe\">\n",
       "<caption>A data.frame: 6 × 14</caption>\n",
       "<thead>\n",
       "\t<tr><th></th><th scope=col>CodigoPostal</th><th scope=col>Barrio</th><th scope=col>TipoPropiedad</th><th scope=col>TipoAlquiler</th><th scope=col>MaxOcupantes</th><th scope=col>NumBanyos</th><th scope=col>NumDormitorios</th><th scope=col>NumCamas</th><th scope=col>TipoCama</th><th scope=col>Comodidades</th><th scope=col>PiesCuadrados</th><th scope=col>Precio</th><th scope=col>Puntuacion</th><th scope=col>MetrosCuadrados</th></tr>\n",
       "\t<tr><th></th><th scope=col>&lt;fct&gt;</th><th scope=col>&lt;fct&gt;</th><th scope=col>&lt;fct&gt;</th><th scope=col>&lt;fct&gt;</th><th scope=col>&lt;int&gt;</th><th scope=col>&lt;dbl&gt;</th><th scope=col>&lt;int&gt;</th><th scope=col>&lt;int&gt;</th><th scope=col>&lt;fct&gt;</th><th scope=col>&lt;fct&gt;</th><th scope=col>&lt;int&gt;</th><th scope=col>&lt;int&gt;</th><th scope=col>&lt;int&gt;</th><th scope=col>&lt;dbl&gt;</th></tr>\n",
       "</thead>\n",
       "<tbody>\n",
       "\t<tr><th scope=row>13202</th><td>28004</td><td>Universidad</td><td>Apartment</td><td>Entire home/apt</td><td>4</td><td>1</td><td>1</td><td>2</td><td>Real Bed</td><td>TV,Wireless Internet,Air conditioning,Kitchen,Smoking allowed,Pets allowed,Heating,Family/kid friendly,Washer,Fire extinguisher,Essentials,Lock on bedroom door,Hangers,Hair dryer,Iron                                                                                                                              </td><td>NA</td><td> 48</td><td> 83</td><td>NA</td></tr>\n",
       "\t<tr><th scope=row>13203</th><td>28015</td><td>Universidad</td><td>Apartment</td><td>Entire home/apt</td><td>2</td><td>1</td><td>1</td><td>1</td><td>Real Bed</td><td>TV,Internet,Wireless Internet,Air conditioning,Kitchen,Elevator in building,Buzzer/wireless intercom,Heating,Washer,Dryer,Smoke detector,Fire extinguisher,Essentials,Shampoo,Hangers,Hair dryer,Iron,Laptop friendly workspace,translation missing: en.hosting_amenity_49,translation missing: en.hosting_amenity_50</td><td>NA</td><td> 35</td><td> 90</td><td>NA</td></tr>\n",
       "\t<tr><th scope=row>13204</th><td>28004</td><td>Universidad</td><td>Apartment</td><td>Entire home/apt</td><td>3</td><td>1</td><td>1</td><td>2</td><td>Real Bed</td><td>TV,Wireless Internet,Air conditioning,Kitchen,Elevator in building,Buzzer/wireless intercom,Heating,Family/kid friendly,Washer,Dryer,Smoke detector,Carbon monoxide detector,Fire extinguisher,Essentials,Shampoo,24-hour check-in,Hangers,Hair dryer,Iron,Laptop friendly workspace                                 </td><td>NA</td><td> 79</td><td> 97</td><td>NA</td></tr>\n",
       "\t<tr><th scope=row>13205</th><td>28013</td><td>Universidad</td><td>Apartment</td><td>Entire home/apt</td><td>4</td><td>1</td><td>1</td><td>1</td><td>Real Bed</td><td>TV,Wireless Internet,Air conditioning,Pool,Kitchen,Doorman,Gym,Elevator in building,Buzzer/wireless intercom,Heating,Washer,First aid kit,Safety card,Essentials,Shampoo,Hangers,Hair dryer,Iron,Laptop friendly workspace                                                                                           </td><td>NA</td><td>150</td><td>100</td><td>NA</td></tr>\n",
       "\t<tr><th scope=row>13206</th><td>28004</td><td>Universidad</td><td>Loft     </td><td>Entire home/apt</td><td>2</td><td>1</td><td>0</td><td>1</td><td>Real Bed</td><td>TV,Internet,Wireless Internet,Kitchen,Smoking allowed,Pets allowed,Elevator in building,Heating,Family/kid friendly,Washer,First aid kit,Essentials,Shampoo                                                                                                                                                          </td><td>NA</td><td> 80</td><td> 91</td><td>NA</td></tr>\n",
       "\t<tr><th scope=row>13207</th><td>28004</td><td>Universidad</td><td>Apartment</td><td>Entire home/apt</td><td>3</td><td>1</td><td>0</td><td>2</td><td>Real Bed</td><td>TV,Internet,Wireless Internet,Air conditioning,Kitchen,Heating,Family/kid friendly,Washer                                                                                                                                                                                                                            </td><td>NA</td><td> 69</td><td> 80</td><td>NA</td></tr>\n",
       "</tbody>\n",
       "</table>\n"
      ],
      "text/latex": [
       "A data.frame: 6 × 14\n",
       "\\begin{tabular}{r|llllllllllllll}\n",
       "  & CodigoPostal & Barrio & TipoPropiedad & TipoAlquiler & MaxOcupantes & NumBanyos & NumDormitorios & NumCamas & TipoCama & Comodidades & PiesCuadrados & Precio & Puntuacion & MetrosCuadrados\\\\\n",
       "  & <fct> & <fct> & <fct> & <fct> & <int> & <dbl> & <int> & <int> & <fct> & <fct> & <int> & <int> & <int> & <dbl>\\\\\n",
       "\\hline\n",
       "\t13202 & 28004 & Universidad & Apartment & Entire home/apt & 4 & 1 & 1 & 2 & Real Bed & TV,Wireless Internet,Air conditioning,Kitchen,Smoking allowed,Pets allowed,Heating,Family/kid friendly,Washer,Fire extinguisher,Essentials,Lock on bedroom door,Hangers,Hair dryer,Iron                                                                                                                               & NA &  48 &  83 & NA\\\\\n",
       "\t13203 & 28015 & Universidad & Apartment & Entire home/apt & 2 & 1 & 1 & 1 & Real Bed & TV,Internet,Wireless Internet,Air conditioning,Kitchen,Elevator in building,Buzzer/wireless intercom,Heating,Washer,Dryer,Smoke detector,Fire extinguisher,Essentials,Shampoo,Hangers,Hair dryer,Iron,Laptop friendly workspace,translation missing: en.hosting\\_amenity\\_49,translation missing: en.hosting\\_amenity\\_50 & NA &  35 &  90 & NA\\\\\n",
       "\t13204 & 28004 & Universidad & Apartment & Entire home/apt & 3 & 1 & 1 & 2 & Real Bed & TV,Wireless Internet,Air conditioning,Kitchen,Elevator in building,Buzzer/wireless intercom,Heating,Family/kid friendly,Washer,Dryer,Smoke detector,Carbon monoxide detector,Fire extinguisher,Essentials,Shampoo,24-hour check-in,Hangers,Hair dryer,Iron,Laptop friendly workspace                                  & NA &  79 &  97 & NA\\\\\n",
       "\t13205 & 28013 & Universidad & Apartment & Entire home/apt & 4 & 1 & 1 & 1 & Real Bed & TV,Wireless Internet,Air conditioning,Pool,Kitchen,Doorman,Gym,Elevator in building,Buzzer/wireless intercom,Heating,Washer,First aid kit,Safety card,Essentials,Shampoo,Hangers,Hair dryer,Iron,Laptop friendly workspace                                                                                            & NA & 150 & 100 & NA\\\\\n",
       "\t13206 & 28004 & Universidad & Loft      & Entire home/apt & 2 & 1 & 0 & 1 & Real Bed & TV,Internet,Wireless Internet,Kitchen,Smoking allowed,Pets allowed,Elevator in building,Heating,Family/kid friendly,Washer,First aid kit,Essentials,Shampoo                                                                                                                                                           & NA &  80 &  91 & NA\\\\\n",
       "\t13207 & 28004 & Universidad & Apartment & Entire home/apt & 3 & 1 & 0 & 2 & Real Bed & TV,Internet,Wireless Internet,Air conditioning,Kitchen,Heating,Family/kid friendly,Washer                                                                                                                                                                                                                             & NA &  69 &  80 & NA\\\\\n",
       "\\end{tabular}\n"
      ],
      "text/markdown": [
       "\n",
       "A data.frame: 6 × 14\n",
       "\n",
       "| <!--/--> | CodigoPostal &lt;fct&gt; | Barrio &lt;fct&gt; | TipoPropiedad &lt;fct&gt; | TipoAlquiler &lt;fct&gt; | MaxOcupantes &lt;int&gt; | NumBanyos &lt;dbl&gt; | NumDormitorios &lt;int&gt; | NumCamas &lt;int&gt; | TipoCama &lt;fct&gt; | Comodidades &lt;fct&gt; | PiesCuadrados &lt;int&gt; | Precio &lt;int&gt; | Puntuacion &lt;int&gt; | MetrosCuadrados &lt;dbl&gt; |\n",
       "|---|---|---|---|---|---|---|---|---|---|---|---|---|---|---|\n",
       "| 13202 | 28004 | Universidad | Apartment | Entire home/apt | 4 | 1 | 1 | 2 | Real Bed | TV,Wireless Internet,Air conditioning,Kitchen,Smoking allowed,Pets allowed,Heating,Family/kid friendly,Washer,Fire extinguisher,Essentials,Lock on bedroom door,Hangers,Hair dryer,Iron                                                                                                                               | NA |  48 |  83 | NA |\n",
       "| 13203 | 28015 | Universidad | Apartment | Entire home/apt | 2 | 1 | 1 | 1 | Real Bed | TV,Internet,Wireless Internet,Air conditioning,Kitchen,Elevator in building,Buzzer/wireless intercom,Heating,Washer,Dryer,Smoke detector,Fire extinguisher,Essentials,Shampoo,Hangers,Hair dryer,Iron,Laptop friendly workspace,translation missing: en.hosting_amenity_49,translation missing: en.hosting_amenity_50 | NA |  35 |  90 | NA |\n",
       "| 13204 | 28004 | Universidad | Apartment | Entire home/apt | 3 | 1 | 1 | 2 | Real Bed | TV,Wireless Internet,Air conditioning,Kitchen,Elevator in building,Buzzer/wireless intercom,Heating,Family/kid friendly,Washer,Dryer,Smoke detector,Carbon monoxide detector,Fire extinguisher,Essentials,Shampoo,24-hour check-in,Hangers,Hair dryer,Iron,Laptop friendly workspace                                  | NA |  79 |  97 | NA |\n",
       "| 13205 | 28013 | Universidad | Apartment | Entire home/apt | 4 | 1 | 1 | 1 | Real Bed | TV,Wireless Internet,Air conditioning,Pool,Kitchen,Doorman,Gym,Elevator in building,Buzzer/wireless intercom,Heating,Washer,First aid kit,Safety card,Essentials,Shampoo,Hangers,Hair dryer,Iron,Laptop friendly workspace                                                                                            | NA | 150 | 100 | NA |\n",
       "| 13206 | 28004 | Universidad | Loft      | Entire home/apt | 2 | 1 | 0 | 1 | Real Bed | TV,Internet,Wireless Internet,Kitchen,Smoking allowed,Pets allowed,Elevator in building,Heating,Family/kid friendly,Washer,First aid kit,Essentials,Shampoo                                                                                                                                                           | NA |  80 |  91 | NA |\n",
       "| 13207 | 28004 | Universidad | Apartment | Entire home/apt | 3 | 1 | 0 | 2 | Real Bed | TV,Internet,Wireless Internet,Air conditioning,Kitchen,Heating,Family/kid friendly,Washer                                                                                                                                                                                                                             | NA |  69 |  80 | NA |\n",
       "\n"
      ],
      "text/plain": [
       "      CodigoPostal Barrio      TipoPropiedad TipoAlquiler    MaxOcupantes\n",
       "13202 28004        Universidad Apartment     Entire home/apt 4           \n",
       "13203 28015        Universidad Apartment     Entire home/apt 2           \n",
       "13204 28004        Universidad Apartment     Entire home/apt 3           \n",
       "13205 28013        Universidad Apartment     Entire home/apt 4           \n",
       "13206 28004        Universidad Loft          Entire home/apt 2           \n",
       "13207 28004        Universidad Apartment     Entire home/apt 3           \n",
       "      NumBanyos NumDormitorios NumCamas TipoCama\n",
       "13202 1         1              2        Real Bed\n",
       "13203 1         1              1        Real Bed\n",
       "13204 1         1              2        Real Bed\n",
       "13205 1         1              1        Real Bed\n",
       "13206 1         0              1        Real Bed\n",
       "13207 1         0              2        Real Bed\n",
       "      Comodidades                                                                                                                                                                                                                                                                                                          \n",
       "13202 TV,Wireless Internet,Air conditioning,Kitchen,Smoking allowed,Pets allowed,Heating,Family/kid friendly,Washer,Fire extinguisher,Essentials,Lock on bedroom door,Hangers,Hair dryer,Iron                                                                                                                              \n",
       "13203 TV,Internet,Wireless Internet,Air conditioning,Kitchen,Elevator in building,Buzzer/wireless intercom,Heating,Washer,Dryer,Smoke detector,Fire extinguisher,Essentials,Shampoo,Hangers,Hair dryer,Iron,Laptop friendly workspace,translation missing: en.hosting_amenity_49,translation missing: en.hosting_amenity_50\n",
       "13204 TV,Wireless Internet,Air conditioning,Kitchen,Elevator in building,Buzzer/wireless intercom,Heating,Family/kid friendly,Washer,Dryer,Smoke detector,Carbon monoxide detector,Fire extinguisher,Essentials,Shampoo,24-hour check-in,Hangers,Hair dryer,Iron,Laptop friendly workspace                                 \n",
       "13205 TV,Wireless Internet,Air conditioning,Pool,Kitchen,Doorman,Gym,Elevator in building,Buzzer/wireless intercom,Heating,Washer,First aid kit,Safety card,Essentials,Shampoo,Hangers,Hair dryer,Iron,Laptop friendly workspace                                                                                           \n",
       "13206 TV,Internet,Wireless Internet,Kitchen,Smoking allowed,Pets allowed,Elevator in building,Heating,Family/kid friendly,Washer,First aid kit,Essentials,Shampoo                                                                                                                                                          \n",
       "13207 TV,Internet,Wireless Internet,Air conditioning,Kitchen,Heating,Family/kid friendly,Washer                                                                                                                                                                                                                            \n",
       "      PiesCuadrados Precio Puntuacion MetrosCuadrados\n",
       "13202 NA             48     83        NA             \n",
       "13203 NA             35     90        NA             \n",
       "13204 NA             79     97        NA             \n",
       "13205 NA            150    100        NA             \n",
       "13206 NA             80     91        NA             \n",
       "13207 NA             69     80        NA             "
      ]
     },
     "metadata": {},
     "output_type": "display_data"
    }
   ],
   "source": [
    "airbnb$MetrosCuadrados<- airbnb$PiesCuadrados*0.092903\n",
    "tail(airbnb)"
   ]
  },
  {
   "cell_type": "markdown",
   "metadata": {},
   "source": [
    "Miremos el código postal. Es una variable con entradas erroneas.\n",
    "Hay valores como '', '-'  y '28' que deberían ser considerados como NA.\n",
    "Así mismo también debería ser NA todos los que no compiencen por 28, ya que estamos con códigos postales de Madrid\n",
    "\n",
    "El código postal 28002, 28004 y 28051 tienen entradas repetidas. \n",
    "Por ejemplo las entradas 28002\\n20882 deberían ir dnetro de 28002\n",
    "\n",
    "El codigo 2804 debería ser 28004, 2805 deberia ser 28005 y 2815 juncto con 2815 debería ser 28015\n",
    "\n",
    "Limpia los datos de la columna Codigo Postal"
   ]
  },
  {
   "cell_type": "code",
   "execution_count": 6,
   "metadata": {},
   "outputs": [],
   "source": [
    "airbnb$CodigoPostal[airbnb$CodigoPostal== '']<-NA\n",
    "airbnb$CodigoPostal[airbnb$CodigoPostal== '-']<-NA\n",
    "airbnb$CodigoPostal[airbnb$CodigoPostal== '28']<-NA\n",
    "airbnb$CodigoPostal[!grepl(\"^28\",airbnb$CodigoPostal)]<-NA"
   ]
  },
  {
   "cell_type": "code",
   "execution_count": 7,
   "metadata": {},
   "outputs": [],
   "source": [
    "airbnb$CodigoPostal[airbnb$CodigoPostal== '28002\\n20882']<-28002\n",
    "airbnb$CodigoPostal[airbnb$CodigoPostal== '2804']<-28004\n",
    "airbnb$CodigoPostal[airbnb$CodigoPostal== '2805']<-28005\n",
    "airbnb$CodigoPostal[airbnb$CodigoPostal== ' 2815']<-28015"
   ]
  },
  {
   "cell_type": "code",
   "execution_count": 8,
   "metadata": {},
   "outputs": [],
   "source": [
    "airbnb$CodigoPostal <- gsub('[^(28)]\\\\d{3}', NA, airbnb$CodigoPostal)\n",
    "\n",
    "airbnb$CodigoPostal<-factor(airbnb$CodigoPostal)"
   ]
  },
  {
   "cell_type": "markdown",
   "metadata": {},
   "source": [
    "Una vez limpios los datos ¿Cuales son los códigos postales que tenemos?"
   ]
  },
  {
   "cell_type": "code",
   "execution_count": 9,
   "metadata": {},
   "outputs": [
    {
     "data": {
      "text/html": [
       "'Tenemos 63 códigos postales en total.'"
      ],
      "text/latex": [
       "'Tenemos 63 códigos postales en total.'"
      ],
      "text/markdown": [
       "'Tenemos 63 códigos postales en total.'"
      ],
      "text/plain": [
       "[1] \"Tenemos 63 códigos postales en total.\""
      ]
     },
     "metadata": {},
     "output_type": "display_data"
    }
   ],
   "source": [
    "paste(\"Tenemos\", length(unique(airbnb$CodigoPostal)), \"códigos postales en total.\" )"
   ]
  },
  {
   "cell_type": "markdown",
   "metadata": {},
   "source": [
    "¿Cuales son los 5 códigos postales con más entradas? ¿Y con menos? ¿Cuantas entradas tienen?"
   ]
  },
  {
   "cell_type": "code",
   "execution_count": 10,
   "metadata": {},
   "outputs": [
    {
     "name": "stdout",
     "output_type": "stream",
     "text": [
      "[1] \"Los códigos postales que tienen más entradas són los siguentes\"\n"
     ]
    },
    {
     "data": {
      "text/plain": [
       "\n",
       "28012 28004 28005 28013 28014 28015 \n",
       " 2060  1795  1195  1019   630   600 "
      ]
     },
     "metadata": {},
     "output_type": "display_data"
    },
    {
     "name": "stdout",
     "output_type": "stream",
     "text": [
      "[1] \"Y los códigos postales con menos entradas en airbnb serán:\"\n"
     ]
    },
    {
     "data": {
      "text/plain": [
       "\n",
       "28048 28052 28056 28058 28060 28094 \n",
       "    1     1     1     1     1     1 "
      ]
     },
     "metadata": {},
     "output_type": "display_data"
    }
   ],
   "source": [
    "print(\"Los códigos postales que tienen más entradas són los siguentes\")\n",
    "head(sort(table(airbnb$CodigoPostal), decreasing=T, 5))\n",
    "\n",
    "print(\"Y los códigos postales con menos entradas en airbnb serán:\")\n",
    "head(sort(table(airbnb$CodigoPostal), decreasing=F, 5))"
   ]
  },
  {
   "cell_type": "markdown",
   "metadata": {},
   "source": [
    "¿Cuales son los barrios que hay en el código postal 28012?"
   ]
  },
  {
   "cell_type": "code",
   "execution_count": 11,
   "metadata": {},
   "outputs": [
    {
     "name": "stdout",
     "output_type": "stream",
     "text": [
      "[1] \"En el código postal 28012 encontramos los siguentes barrios:\"\n"
     ]
    },
    {
     "data": {
      "text/html": [
       "<style>\n",
       ".list-inline {list-style: none; margin:0; padding: 0}\n",
       ".list-inline>li {display: inline-block}\n",
       ".list-inline>li:not(:last-child)::after {content: \"\\00b7\"; padding: 0 .5ex}\n",
       "</style>\n",
       "<ol class=list-inline><li>Sol</li><li>Acacias</li><li>Palos de Moguer</li><li>Embajadores</li><li>Cortes</li><li>Palacio</li><li>Universidad</li><li>Delicias</li><li>Arapiles</li><li>Atocha</li><li>Goya</li></ol>\n",
       "\n",
       "<details>\n",
       "\t<summary style=display:list-item;cursor:pointer>\n",
       "\t\t<strong>Levels</strong>:\n",
       "\t</summary>\n",
       "\t<style>\n",
       "\t.list-inline {list-style: none; margin:0; padding: 0}\n",
       "\t.list-inline>li {display: inline-block}\n",
       "\t.list-inline>li:not(:last-child)::after {content: \"\\00b7\"; padding: 0 .5ex}\n",
       "\t</style>\n",
       "\t<ol class=list-inline><li>'Abrantes'</li><li>'Acacias'</li><li>'Adelfas'</li><li>'Aeropuerto'</li><li>'Aguilas'</li><li>'Alameda de Osuna'</li><li>'Almagro'</li><li>'Almenara'</li><li>'Almendrales'</li><li>'Aluche'</li><li>'Ambroz'</li><li>'Amposta'</li><li>'Apostol Santiago'</li><li>'Arapiles'</li><li>'Aravaca'</li><li>'Arcos'</li><li>'Argüelles'</li><li>'Atocha'</li><li>'Bellas Vistas'</li><li>'Berruguete'</li><li>'Buenavista'</li><li>'Butarque'</li><li>'Campamento'</li><li>'Canillas'</li><li>'Canillejas'</li><li>'Cármenes'</li><li>'Casa de Campo'</li><li>'Casco Histórico de Barajas'</li><li>'Casco Histórico de Vallecas'</li><li>'Casco Histórico de Vicálvaro'</li><li>'Castellana'</li><li>'Castilla'</li><li>'Castillejos'</li><li>'Chopera'</li><li>'Ciudad Jardín'</li><li>'Ciudad Universitaria'</li><li>'Colina'</li><li>'Comillas'</li><li>'Concepción'</li><li>'Corralejos'</li><li>'Cortes'</li><li>'Costillares'</li><li>'Cuatro Caminos'</li><li>'Cuatro Vientos'</li><li>'Delicias'</li><li>'El Goloso'</li><li>'El Plantío'</li><li>'El Viso'</li><li>'Embajadores'</li><li>'Entrevías'</li><li>'Estrella'</li><li>'Fontarrón'</li><li>'Fuente del Berro'</li><li>'Fuentelareina'</li><li>'Gaztambide'</li><li>'Goya'</li><li>'Guindalera'</li><li>'Hellín'</li><li>'Hispanoamérica'</li><li>'Ibiza'</li><li>'Imperial'</li><li>'Jerónimos'</li><li>'Justicia'</li><li>'La Paz'</li><li>'Legazpi'</li><li>'Lista'</li><li>'Los Angeles'</li><li>'Los Rosales'</li><li>'Lucero'</li><li>'Marroquina'</li><li>'Media Legua'</li><li>'Mirasierra'</li><li>'Moscardó'</li><li>'Niño Jesús'</li><li>'Nueva España'</li><li>'Numancia'</li><li>'Opañel'</li><li>'Orcasitas'</li><li>'Orcasur'</li><li>'Pacífico'</li><li>'Palacio'</li><li>'Palomas'</li><li>'Palomeras Bajas'</li><li>'Palomeras Sureste'</li><li>'Palos de Moguer'</li><li>'Pavones'</li><li>'Peñagrande'</li><li>'Pilar'</li><li>'Pinar del Rey'</li><li>'Piovera'</li><li>'Portazgo'</li><li>'Pradolongo'</li><li>'Prosperidad'</li><li>'Pueblo Nuevo'</li><li>'Puerta Bonita'</li><li>'Puerta del Angel'</li><li>'Quintana'</li><li>'Recoletos'</li><li>'Rejas'</li><li>'Rios Rosas'</li><li>'Rosas'</li><li>'Salvador'</li><li>'San Andrés'</li><li>'San Cristobal'</li><li>'San Diego'</li><li>'San Fermín'</li><li>'San Isidro'</li><li>'San Juan Bautista'</li><li>'San Pascual'</li><li>'Santa Eugenia'</li><li>'Simancas'</li><li>'Sol'</li><li>'Timón'</li><li>'Trafalgar'</li><li>'Universidad'</li><li>'Valdeacederas'</li><li>'Valdefuentes'</li><li>'Valdemarín'</li><li>'Valdezarza'</li><li>'Vallehermoso'</li><li>'Valverde'</li><li>'Ventas'</li><li>'Vinateros'</li><li>'Vista Alegre'</li><li>'Zofío'</li></ol>\n",
       "</details>"
      ],
      "text/latex": [
       "\\begin{enumerate*}\n",
       "\\item Sol\n",
       "\\item Acacias\n",
       "\\item Palos de Moguer\n",
       "\\item Embajadores\n",
       "\\item Cortes\n",
       "\\item Palacio\n",
       "\\item Universidad\n",
       "\\item Delicias\n",
       "\\item Arapiles\n",
       "\\item Atocha\n",
       "\\item Goya\n",
       "\\end{enumerate*}\n",
       "\n",
       "\\emph{Levels}: \\begin{enumerate*}\n",
       "\\item 'Abrantes'\n",
       "\\item 'Acacias'\n",
       "\\item 'Adelfas'\n",
       "\\item 'Aeropuerto'\n",
       "\\item 'Aguilas'\n",
       "\\item 'Alameda de Osuna'\n",
       "\\item 'Almagro'\n",
       "\\item 'Almenara'\n",
       "\\item 'Almendrales'\n",
       "\\item 'Aluche'\n",
       "\\item 'Ambroz'\n",
       "\\item 'Amposta'\n",
       "\\item 'Apostol Santiago'\n",
       "\\item 'Arapiles'\n",
       "\\item 'Aravaca'\n",
       "\\item 'Arcos'\n",
       "\\item 'Argüelles'\n",
       "\\item 'Atocha'\n",
       "\\item 'Bellas Vistas'\n",
       "\\item 'Berruguete'\n",
       "\\item 'Buenavista'\n",
       "\\item 'Butarque'\n",
       "\\item 'Campamento'\n",
       "\\item 'Canillas'\n",
       "\\item 'Canillejas'\n",
       "\\item 'Cármenes'\n",
       "\\item 'Casa de Campo'\n",
       "\\item 'Casco Histórico de Barajas'\n",
       "\\item 'Casco Histórico de Vallecas'\n",
       "\\item 'Casco Histórico de Vicálvaro'\n",
       "\\item 'Castellana'\n",
       "\\item 'Castilla'\n",
       "\\item 'Castillejos'\n",
       "\\item 'Chopera'\n",
       "\\item 'Ciudad Jardín'\n",
       "\\item 'Ciudad Universitaria'\n",
       "\\item 'Colina'\n",
       "\\item 'Comillas'\n",
       "\\item 'Concepción'\n",
       "\\item 'Corralejos'\n",
       "\\item 'Cortes'\n",
       "\\item 'Costillares'\n",
       "\\item 'Cuatro Caminos'\n",
       "\\item 'Cuatro Vientos'\n",
       "\\item 'Delicias'\n",
       "\\item 'El Goloso'\n",
       "\\item 'El Plantío'\n",
       "\\item 'El Viso'\n",
       "\\item 'Embajadores'\n",
       "\\item 'Entrevías'\n",
       "\\item 'Estrella'\n",
       "\\item 'Fontarrón'\n",
       "\\item 'Fuente del Berro'\n",
       "\\item 'Fuentelareina'\n",
       "\\item 'Gaztambide'\n",
       "\\item 'Goya'\n",
       "\\item 'Guindalera'\n",
       "\\item 'Hellín'\n",
       "\\item 'Hispanoamérica'\n",
       "\\item 'Ibiza'\n",
       "\\item 'Imperial'\n",
       "\\item 'Jerónimos'\n",
       "\\item 'Justicia'\n",
       "\\item 'La Paz'\n",
       "\\item 'Legazpi'\n",
       "\\item 'Lista'\n",
       "\\item 'Los Angeles'\n",
       "\\item 'Los Rosales'\n",
       "\\item 'Lucero'\n",
       "\\item 'Marroquina'\n",
       "\\item 'Media Legua'\n",
       "\\item 'Mirasierra'\n",
       "\\item 'Moscardó'\n",
       "\\item 'Niño Jesús'\n",
       "\\item 'Nueva España'\n",
       "\\item 'Numancia'\n",
       "\\item 'Opañel'\n",
       "\\item 'Orcasitas'\n",
       "\\item 'Orcasur'\n",
       "\\item 'Pacífico'\n",
       "\\item 'Palacio'\n",
       "\\item 'Palomas'\n",
       "\\item 'Palomeras Bajas'\n",
       "\\item 'Palomeras Sureste'\n",
       "\\item 'Palos de Moguer'\n",
       "\\item 'Pavones'\n",
       "\\item 'Peñagrande'\n",
       "\\item 'Pilar'\n",
       "\\item 'Pinar del Rey'\n",
       "\\item 'Piovera'\n",
       "\\item 'Portazgo'\n",
       "\\item 'Pradolongo'\n",
       "\\item 'Prosperidad'\n",
       "\\item 'Pueblo Nuevo'\n",
       "\\item 'Puerta Bonita'\n",
       "\\item 'Puerta del Angel'\n",
       "\\item 'Quintana'\n",
       "\\item 'Recoletos'\n",
       "\\item 'Rejas'\n",
       "\\item 'Rios Rosas'\n",
       "\\item 'Rosas'\n",
       "\\item 'Salvador'\n",
       "\\item 'San Andrés'\n",
       "\\item 'San Cristobal'\n",
       "\\item 'San Diego'\n",
       "\\item 'San Fermín'\n",
       "\\item 'San Isidro'\n",
       "\\item 'San Juan Bautista'\n",
       "\\item 'San Pascual'\n",
       "\\item 'Santa Eugenia'\n",
       "\\item 'Simancas'\n",
       "\\item 'Sol'\n",
       "\\item 'Timón'\n",
       "\\item 'Trafalgar'\n",
       "\\item 'Universidad'\n",
       "\\item 'Valdeacederas'\n",
       "\\item 'Valdefuentes'\n",
       "\\item 'Valdemarín'\n",
       "\\item 'Valdezarza'\n",
       "\\item 'Vallehermoso'\n",
       "\\item 'Valverde'\n",
       "\\item 'Ventas'\n",
       "\\item 'Vinateros'\n",
       "\\item 'Vista Alegre'\n",
       "\\item 'Zofío'\n",
       "\\end{enumerate*}\n"
      ],
      "text/markdown": [
       "1. Sol\n",
       "2. Acacias\n",
       "3. Palos de Moguer\n",
       "4. Embajadores\n",
       "5. Cortes\n",
       "6. Palacio\n",
       "7. Universidad\n",
       "8. Delicias\n",
       "9. Arapiles\n",
       "10. Atocha\n",
       "11. Goya\n",
       "\n",
       "\n",
       "\n",
       "**Levels**: 1. 'Abrantes'\n",
       "2. 'Acacias'\n",
       "3. 'Adelfas'\n",
       "4. 'Aeropuerto'\n",
       "5. 'Aguilas'\n",
       "6. 'Alameda de Osuna'\n",
       "7. 'Almagro'\n",
       "8. 'Almenara'\n",
       "9. 'Almendrales'\n",
       "10. 'Aluche'\n",
       "11. 'Ambroz'\n",
       "12. 'Amposta'\n",
       "13. 'Apostol Santiago'\n",
       "14. 'Arapiles'\n",
       "15. 'Aravaca'\n",
       "16. 'Arcos'\n",
       "17. 'Argüelles'\n",
       "18. 'Atocha'\n",
       "19. 'Bellas Vistas'\n",
       "20. 'Berruguete'\n",
       "21. 'Buenavista'\n",
       "22. 'Butarque'\n",
       "23. 'Campamento'\n",
       "24. 'Canillas'\n",
       "25. 'Canillejas'\n",
       "26. 'Cármenes'\n",
       "27. 'Casa de Campo'\n",
       "28. 'Casco Histórico de Barajas'\n",
       "29. 'Casco Histórico de Vallecas'\n",
       "30. 'Casco Histórico de Vicálvaro'\n",
       "31. 'Castellana'\n",
       "32. 'Castilla'\n",
       "33. 'Castillejos'\n",
       "34. 'Chopera'\n",
       "35. 'Ciudad Jardín'\n",
       "36. 'Ciudad Universitaria'\n",
       "37. 'Colina'\n",
       "38. 'Comillas'\n",
       "39. 'Concepción'\n",
       "40. 'Corralejos'\n",
       "41. 'Cortes'\n",
       "42. 'Costillares'\n",
       "43. 'Cuatro Caminos'\n",
       "44. 'Cuatro Vientos'\n",
       "45. 'Delicias'\n",
       "46. 'El Goloso'\n",
       "47. 'El Plantío'\n",
       "48. 'El Viso'\n",
       "49. 'Embajadores'\n",
       "50. 'Entrevías'\n",
       "51. 'Estrella'\n",
       "52. 'Fontarrón'\n",
       "53. 'Fuente del Berro'\n",
       "54. 'Fuentelareina'\n",
       "55. 'Gaztambide'\n",
       "56. 'Goya'\n",
       "57. 'Guindalera'\n",
       "58. 'Hellín'\n",
       "59. 'Hispanoamérica'\n",
       "60. 'Ibiza'\n",
       "61. 'Imperial'\n",
       "62. 'Jerónimos'\n",
       "63. 'Justicia'\n",
       "64. 'La Paz'\n",
       "65. 'Legazpi'\n",
       "66. 'Lista'\n",
       "67. 'Los Angeles'\n",
       "68. 'Los Rosales'\n",
       "69. 'Lucero'\n",
       "70. 'Marroquina'\n",
       "71. 'Media Legua'\n",
       "72. 'Mirasierra'\n",
       "73. 'Moscardó'\n",
       "74. 'Niño Jesús'\n",
       "75. 'Nueva España'\n",
       "76. 'Numancia'\n",
       "77. 'Opañel'\n",
       "78. 'Orcasitas'\n",
       "79. 'Orcasur'\n",
       "80. 'Pacífico'\n",
       "81. 'Palacio'\n",
       "82. 'Palomas'\n",
       "83. 'Palomeras Bajas'\n",
       "84. 'Palomeras Sureste'\n",
       "85. 'Palos de Moguer'\n",
       "86. 'Pavones'\n",
       "87. 'Peñagrande'\n",
       "88. 'Pilar'\n",
       "89. 'Pinar del Rey'\n",
       "90. 'Piovera'\n",
       "91. 'Portazgo'\n",
       "92. 'Pradolongo'\n",
       "93. 'Prosperidad'\n",
       "94. 'Pueblo Nuevo'\n",
       "95. 'Puerta Bonita'\n",
       "96. 'Puerta del Angel'\n",
       "97. 'Quintana'\n",
       "98. 'Recoletos'\n",
       "99. 'Rejas'\n",
       "100. 'Rios Rosas'\n",
       "101. 'Rosas'\n",
       "102. 'Salvador'\n",
       "103. 'San Andrés'\n",
       "104. 'San Cristobal'\n",
       "105. 'San Diego'\n",
       "106. 'San Fermín'\n",
       "107. 'San Isidro'\n",
       "108. 'San Juan Bautista'\n",
       "109. 'San Pascual'\n",
       "110. 'Santa Eugenia'\n",
       "111. 'Simancas'\n",
       "112. 'Sol'\n",
       "113. 'Timón'\n",
       "114. 'Trafalgar'\n",
       "115. 'Universidad'\n",
       "116. 'Valdeacederas'\n",
       "117. 'Valdefuentes'\n",
       "118. 'Valdemarín'\n",
       "119. 'Valdezarza'\n",
       "120. 'Vallehermoso'\n",
       "121. 'Valverde'\n",
       "122. 'Ventas'\n",
       "123. 'Vinateros'\n",
       "124. 'Vista Alegre'\n",
       "125. 'Zofío'\n",
       "\n",
       "\n"
      ],
      "text/plain": [
       " [1] Sol             Acacias         Palos de Moguer Embajadores    \n",
       " [5] Cortes          Palacio         Universidad     Delicias       \n",
       " [9] Arapiles        Atocha          Goya           \n",
       "125 Levels: Abrantes Acacias Adelfas Aeropuerto Aguilas ... Zofío"
      ]
     },
     "metadata": {},
     "output_type": "display_data"
    }
   ],
   "source": [
    "print(\"En el código postal 28012 encontramos los siguentes barrios:\")\n",
    "unique(airbnb[which(airbnb$CodigoPostal==\"28012\"),]$Barrio)"
   ]
  },
  {
   "cell_type": "markdown",
   "metadata": {},
   "source": [
    "Cuantas entradas hay en cada uno de esos barrios para el codigo postal 28012?\n",
    "\n"
   ]
  },
  {
   "cell_type": "code",
   "execution_count": 12,
   "metadata": {},
   "outputs": [
    {
     "name": "stdout",
     "output_type": "stream",
     "text": [
      "[1] \"El número de entradas para los distintos barrios dentro del código postal 28012 es el siguente:\"\n"
     ]
    },
    {
     "data": {
      "text/plain": [
       "\n",
       "        Acacias        Arapiles          Atocha          Cortes        Delicias \n",
       "             13               1               1             216               1 \n",
       "    Embajadores            Goya         Palacio Palos de Moguer             Sol \n",
       "           1449               1              27              46             301 \n",
       "    Universidad \n",
       "              4 "
      ]
     },
     "metadata": {},
     "output_type": "display_data"
    }
   ],
   "source": [
    "print(\"El número de entradas para los distintos barrios dentro del código postal 28012 es el siguente:\")\n",
    "airbnb_28 <-airbnb[which(airbnb$CodigoPostal==\"28012\"),]\n",
    "airbnb_28$Barrio<-factor(airbnb_28$Barrio)\n",
    "table(airbnb_28$Barrio)\n",
    "\n",
    "\n"
   ]
  },
  {
   "cell_type": "markdown",
   "metadata": {},
   "source": [
    "¿Cuantos barrios hay en todo el dataset airbnb? ¿Cuales son?"
   ]
  },
  {
   "cell_type": "code",
   "execution_count": 13,
   "metadata": {
    "scrolled": true
   },
   "outputs": [
    {
     "data": {
      "text/html": [
       "125"
      ],
      "text/latex": [
       "125"
      ],
      "text/markdown": [
       "125"
      ],
      "text/plain": [
       "[1] 125"
      ]
     },
     "metadata": {},
     "output_type": "display_data"
    },
    {
     "name": "stdout",
     "output_type": "stream",
     "text": [
      "  [1] \"Abrantes\"                     \"Acacias\"                     \n",
      "  [3] \"Adelfas\"                      \"Aeropuerto\"                  \n",
      "  [5] \"Aguilas\"                      \"Alameda de Osuna\"            \n",
      "  [7] \"Almagro\"                      \"Almenara\"                    \n",
      "  [9] \"Almendrales\"                  \"Aluche\"                      \n",
      " [11] \"Ambroz\"                       \"Amposta\"                     \n",
      " [13] \"Apostol Santiago\"             \"Arapiles\"                    \n",
      " [15] \"Aravaca\"                      \"Arcos\"                       \n",
      " [17] \"Argüelles\"                    \"Atocha\"                      \n",
      " [19] \"Bellas Vistas\"                \"Berruguete\"                  \n",
      " [21] \"Buenavista\"                   \"Butarque\"                    \n",
      " [23] \"Campamento\"                   \"Canillas\"                    \n",
      " [25] \"Canillejas\"                   \"Cármenes\"                    \n",
      " [27] \"Casa de Campo\"                \"Casco Histórico de Barajas\"  \n",
      " [29] \"Casco Histórico de Vallecas\"  \"Casco Histórico de Vicálvaro\"\n",
      " [31] \"Castellana\"                   \"Castilla\"                    \n",
      " [33] \"Castillejos\"                  \"Chopera\"                     \n",
      " [35] \"Ciudad Jardín\"                \"Ciudad Universitaria\"        \n",
      " [37] \"Colina\"                       \"Comillas\"                    \n",
      " [39] \"Concepción\"                   \"Corralejos\"                  \n",
      " [41] \"Cortes\"                       \"Costillares\"                 \n",
      " [43] \"Cuatro Caminos\"               \"Cuatro Vientos\"              \n",
      " [45] \"Delicias\"                     \"El Goloso\"                   \n",
      " [47] \"El Plantío\"                   \"El Viso\"                     \n",
      " [49] \"Embajadores\"                  \"Entrevías\"                   \n",
      " [51] \"Estrella\"                     \"Fontarrón\"                   \n",
      " [53] \"Fuente del Berro\"             \"Fuentelareina\"               \n",
      " [55] \"Gaztambide\"                   \"Goya\"                        \n",
      " [57] \"Guindalera\"                   \"Hellín\"                      \n",
      " [59] \"Hispanoamérica\"               \"Ibiza\"                       \n",
      " [61] \"Imperial\"                     \"Jerónimos\"                   \n",
      " [63] \"Justicia\"                     \"La Paz\"                      \n",
      " [65] \"Legazpi\"                      \"Lista\"                       \n",
      " [67] \"Los Angeles\"                  \"Los Rosales\"                 \n",
      " [69] \"Lucero\"                       \"Marroquina\"                  \n",
      " [71] \"Media Legua\"                  \"Mirasierra\"                  \n",
      " [73] \"Moscardó\"                     \"Niño Jesús\"                  \n",
      " [75] \"Nueva España\"                 \"Numancia\"                    \n",
      " [77] \"Opañel\"                       \"Orcasitas\"                   \n",
      " [79] \"Orcasur\"                      \"Pacífico\"                    \n",
      " [81] \"Palacio\"                      \"Palomas\"                     \n",
      " [83] \"Palomeras Bajas\"              \"Palomeras Sureste\"           \n",
      " [85] \"Palos de Moguer\"              \"Pavones\"                     \n",
      " [87] \"Peñagrande\"                   \"Pilar\"                       \n",
      " [89] \"Pinar del Rey\"                \"Piovera\"                     \n",
      " [91] \"Portazgo\"                     \"Pradolongo\"                  \n",
      " [93] \"Prosperidad\"                  \"Pueblo Nuevo\"                \n",
      " [95] \"Puerta Bonita\"                \"Puerta del Angel\"            \n",
      " [97] \"Quintana\"                     \"Recoletos\"                   \n",
      " [99] \"Rejas\"                        \"Rios Rosas\"                  \n",
      "[101] \"Rosas\"                        \"Salvador\"                    \n",
      "[103] \"San Andrés\"                   \"San Cristobal\"               \n",
      "[105] \"San Diego\"                    \"San Fermín\"                  \n",
      "[107] \"San Isidro\"                   \"San Juan Bautista\"           \n",
      "[109] \"San Pascual\"                  \"Santa Eugenia\"               \n",
      "[111] \"Simancas\"                     \"Sol\"                         \n",
      "[113] \"Timón\"                        \"Trafalgar\"                   \n",
      "[115] \"Universidad\"                  \"Valdeacederas\"               \n",
      "[117] \"Valdefuentes\"                 \"Valdemarín\"                  \n",
      "[119] \"Valdezarza\"                   \"Vallehermoso\"                \n",
      "[121] \"Valverde\"                     \"Ventas\"                      \n",
      "[123] \"Vinateros\"                    \"Vista Alegre\"                \n",
      "[125] \"Zofío\"                       \n"
     ]
    }
   ],
   "source": [
    "length(unique(airbnb$Barrio))\n",
    "print(levels(airbnb$Barrio))"
   ]
  },
  {
   "cell_type": "markdown",
   "metadata": {},
   "source": [
    "¿Cuales son los 5 barrios que tienen mayor número entradas?"
   ]
  },
  {
   "cell_type": "code",
   "execution_count": 14,
   "metadata": {},
   "outputs": [
    {
     "name": "stdout",
     "output_type": "stream",
     "text": [
      "[1] \"Los 5 barrios con mayor número de entradas són los siguentes\"\n"
     ]
    },
    {
     "data": {
      "text/plain": [
       "\n",
       "Embajadores Universidad     Palacio         Sol    Justicia      Cortes \n",
       "       1844        1358        1083         940         785         750 "
      ]
     },
     "metadata": {},
     "output_type": "display_data"
    }
   ],
   "source": [
    "print(\"Los 5 barrios con mayor número de entradas són los siguentes\")\n",
    "head(sort(table(airbnb$Barrio), decreasing=T, 5))"
   ]
  },
  {
   "cell_type": "markdown",
   "metadata": {},
   "source": [
    "¿Cuantos Tipos de Alquiler diferentes hay? ¿Cuales son? ¿Cuantas entradas en el dataframe hay por cada tipo?"
   ]
  },
  {
   "cell_type": "code",
   "execution_count": 15,
   "metadata": {},
   "outputs": [
    {
     "name": "stdout",
     "output_type": "stream",
     "text": [
      "[1] \"Los distintos tipos de alquiler son\"\n"
     ]
    },
    {
     "data": {
      "text/html": [
       "3"
      ],
      "text/latex": [
       "3"
      ],
      "text/markdown": [
       "3"
      ],
      "text/plain": [
       "[1] 3"
      ]
     },
     "metadata": {},
     "output_type": "display_data"
    }
   ],
   "source": [
    "print(\"Los distintos tipos de alquiler son\")\n",
    "length(unique(airbnb$TipoAlquiler))"
   ]
  },
  {
   "cell_type": "code",
   "execution_count": 16,
   "metadata": {},
   "outputs": [
    {
     "name": "stdout",
     "output_type": "stream",
     "text": [
      "[1] \"Estos son los siguentes:\"\n"
     ]
    },
    {
     "data": {
      "text/html": [
       "<style>\n",
       ".list-inline {list-style: none; margin:0; padding: 0}\n",
       ".list-inline>li {display: inline-block}\n",
       ".list-inline>li:not(:last-child)::after {content: \"\\00b7\"; padding: 0 .5ex}\n",
       "</style>\n",
       "<ol class=list-inline><li>'Entire home/apt'</li><li>'Private room'</li><li>'Shared room'</li></ol>\n"
      ],
      "text/latex": [
       "\\begin{enumerate*}\n",
       "\\item 'Entire home/apt'\n",
       "\\item 'Private room'\n",
       "\\item 'Shared room'\n",
       "\\end{enumerate*}\n"
      ],
      "text/markdown": [
       "1. 'Entire home/apt'\n",
       "2. 'Private room'\n",
       "3. 'Shared room'\n",
       "\n",
       "\n"
      ],
      "text/plain": [
       "[1] \"Entire home/apt\" \"Private room\"    \"Shared room\"    "
      ]
     },
     "metadata": {},
     "output_type": "display_data"
    }
   ],
   "source": [
    "print(\"Estos son los siguentes:\")\n",
    "levels(airbnb$TipoAlquiler)"
   ]
  },
  {
   "cell_type": "code",
   "execution_count": 17,
   "metadata": {},
   "outputs": [
    {
     "data": {
      "text/plain": [
       "\n",
       "Entire home/apt    Private room     Shared room \n",
       "           7903            5113             191 "
      ]
     },
     "metadata": {},
     "output_type": "display_data"
    }
   ],
   "source": [
    "table(airbnb$TipoAlquiler)"
   ]
  },
  {
   "cell_type": "markdown",
   "metadata": {},
   "source": [
    "Muestra el diagrama de cajas del precio para cada uno de los diferentes Tipos de Alquiler"
   ]
  },
  {
   "cell_type": "code",
   "execution_count": 18,
   "metadata": {},
   "outputs": [
    {
     "name": "stderr",
     "output_type": "stream",
     "text": [
      "Warning message:\n",
      "“Removed 9 rows containing non-finite values (stat_boxplot).”\n"
     ]
    },
    {
     "data": {
      "image/png": "[encoded data removed]",
      "text/plain": [
       "plot without title"
      ]
     },
     "metadata": {
      "image/png": {
       "height": 240,
       "width": 360
      }
     },
     "output_type": "display_data"
    }
   ],
   "source": [
    "library(ggplot2)\n",
    "ggplot(airbnb,aes(y=Precio, x=TipoAlquiler, color=TipoAlquiler))+geom_boxplot()"
   ]
  },
  {
   "cell_type": "markdown",
   "metadata": {},
   "source": [
    "Cual es el precio medio de alquiler de cada uno, la diferencia que hay ¿es estadísticamente significativa?\n",
    "¿Con que test lo comprobarías?"
   ]
  },
  {
   "cell_type": "code",
   "execution_count": 19,
   "metadata": {},
   "outputs": [
    {
     "name": "stdout",
     "output_type": "stream",
     "text": [
      "[1] \"Precio medio del piso entero es de:\"\n"
     ]
    },
    {
     "data": {
      "text/html": [
       "87.2966058763931"
      ],
      "text/latex": [
       "87.2966058763931"
      ],
      "text/markdown": [
       "87.2966058763931"
      ],
      "text/plain": [
       "[1] 87.29661"
      ]
     },
     "metadata": {},
     "output_type": "display_data"
    },
    {
     "name": "stdout",
     "output_type": "stream",
     "text": [
      "[1] \"Precio medio de una habitación privada es de:\"\n"
     ]
    },
    {
     "data": {
      "text/html": [
       "34.255135981217"
      ],
      "text/latex": [
       "34.255135981217"
      ],
      "text/markdown": [
       "34.255135981217"
      ],
      "text/plain": [
       "[1] 34.25514"
      ]
     },
     "metadata": {},
     "output_type": "display_data"
    },
    {
     "name": "stdout",
     "output_type": "stream",
     "text": [
      "[1] \"Precio medio de una habitación compartida es de:\"\n"
     ]
    },
    {
     "data": {
      "text/html": [
       "29.8534031413613"
      ],
      "text/latex": [
       "29.8534031413613"
      ],
      "text/markdown": [
       "29.8534031413613"
      ],
      "text/plain": [
       "[1] 29.8534"
      ]
     },
     "metadata": {},
     "output_type": "display_data"
    },
    {
     "name": "stdout",
     "output_type": "stream",
     "text": [
      "[1] \"Obtenemos un p.valor de:\"\n"
     ]
    },
    {
     "data": {
      "text/html": [
       "0"
      ],
      "text/latex": [
       "0"
      ],
      "text/markdown": [
       "0"
      ],
      "text/plain": [
       "[1] 0"
      ]
     },
     "metadata": {},
     "output_type": "display_data"
    },
    {
     "name": "stdout",
     "output_type": "stream",
     "text": [
      "[1] \"Al obtener un p.valor tan bajo las medias son muy diferentes\"\n"
     ]
    }
   ],
   "source": [
    "print(\"Precio medio del piso entero es de:\")\n",
    "mean(airbnb$Precio[airbnb$TipoAlquiler==\"Entire home/apt\"], na.rm=TRUE)\n",
    "print(\"Precio medio de una habitación privada es de:\")\n",
    "mean(airbnb$Precio[airbnb$TipoAlquiler==\"Private room\"], na.rm=TRUE)\n",
    "print(\"Precio medio de una habitación compartida es de:\")\n",
    "mean(airbnb$Precio[airbnb$TipoAlquiler==\"Shared room\"], na.rm=TRUE)\n",
    "\n",
    "\n",
    "#Realizamos un Kruskal test\n",
    "kruskal<-kruskal.test( Precio ~ TipoAlquiler, airbnb)\n",
    "print(\"Obtenemos un p.valor de:\")\n",
    "kruskal$p.value\n",
    "\n",
    "print(\"Al obtener un p.valor tan bajo las medias son muy diferentes\")"
   ]
  },
  {
   "cell_type": "markdown",
   "metadata": {},
   "source": [
    "Filtra el dataframe cuyos tipo de alquiler sea  'Entire home/apt' y guardalo en un dataframe llamado \n",
    "*airbnb_entire*.\n",
    "Estas serán las entradas que tienen un alquiler del piso completo."
   ]
  },
  {
   "cell_type": "code",
   "execution_count": 20,
   "metadata": {},
   "outputs": [
    {
     "data": {
      "text/html": [
       "<table class=\"dataframe\">\n",
       "<caption>A data.frame: 6 × 14</caption>\n",
       "<thead>\n",
       "\t<tr><th></th><th scope=col>CodigoPostal</th><th scope=col>Barrio</th><th scope=col>TipoPropiedad</th><th scope=col>TipoAlquiler</th><th scope=col>MaxOcupantes</th><th scope=col>NumBanyos</th><th scope=col>NumDormitorios</th><th scope=col>NumCamas</th><th scope=col>TipoCama</th><th scope=col>Comodidades</th><th scope=col>PiesCuadrados</th><th scope=col>Precio</th><th scope=col>Puntuacion</th><th scope=col>MetrosCuadrados</th></tr>\n",
       "\t<tr><th></th><th scope=col>&lt;fct&gt;</th><th scope=col>&lt;fct&gt;</th><th scope=col>&lt;fct&gt;</th><th scope=col>&lt;fct&gt;</th><th scope=col>&lt;int&gt;</th><th scope=col>&lt;dbl&gt;</th><th scope=col>&lt;int&gt;</th><th scope=col>&lt;int&gt;</th><th scope=col>&lt;fct&gt;</th><th scope=col>&lt;fct&gt;</th><th scope=col>&lt;int&gt;</th><th scope=col>&lt;int&gt;</th><th scope=col>&lt;int&gt;</th><th scope=col>&lt;dbl&gt;</th></tr>\n",
       "</thead>\n",
       "<tbody>\n",
       "\t<tr><th scope=row>2</th><td>28004</td><td>Universidad</td><td>Apartment</td><td>Entire home/apt</td><td>6</td><td>1</td><td>3</td><td> 5</td><td>Real Bed</td><td>TV,Internet,Wireless Internet,Air conditioning,Kitchen,Indoor fireplace,Heating,Family/kid friendly,Washer,Dryer,Smoke detector,Carbon monoxide detector,Essentials,Shampoo                                                                                                                                                                                     </td><td> NA</td><td>92</td><td> 96</td><td>      NA</td></tr>\n",
       "\t<tr><th scope=row>3</th><td>28004</td><td>Universidad</td><td>Apartment</td><td>Entire home/apt</td><td>3</td><td>1</td><td>2</td><td> 2</td><td>Real Bed</td><td>TV,Internet,Wireless Internet,Air conditioning,Kitchen,Doorman,Heating,Family/kid friendly,Washer,Essentials,Shampoo,Hangers,Hair dryer,Iron,Laptop friendly workspace                                                                                                                                                                                          </td><td> NA</td><td>55</td><td> 91</td><td>      NA</td></tr>\n",
       "\t<tr><th scope=row>4</th><td>28004</td><td>Universidad</td><td>Loft     </td><td>Entire home/apt</td><td>3</td><td>2</td><td>1</td><td> 1</td><td>Real Bed</td><td>TV,Internet,Wireless Internet,Air conditioning,Kitchen,Pets allowed,Breakfast,Elevator in building,Indoor fireplace,Buzzer/wireless intercom,Heating,Washer,Essentials,Shampoo,Hangers,Hair dryer,Iron,Laptop friendly workspace,translation missing: en.hosting_amenity_49,translation missing: en.hosting_amenity_50                                          </td><td> NA</td><td>60</td><td>100</td><td>      NA</td></tr>\n",
       "\t<tr><th scope=row>5</th><td>28015</td><td>Universidad</td><td>Apartment</td><td>Entire home/apt</td><td>5</td><td>1</td><td>1</td><td> 1</td><td>Real Bed</td><td>TV,Wireless Internet,Air conditioning,Kitchen,Smoking allowed,Pets allowed,Elevator in building,Heating,Family/kid friendly,Washer,Essentials,Iron                                                                                                                                                                                                              </td><td>538</td><td>75</td><td> 90</td><td>49.98181</td></tr>\n",
       "\t<tr><th scope=row>6</th><td>28004</td><td>Universidad</td><td>Apartment</td><td>Entire home/apt</td><td>2</td><td>1</td><td>0</td><td> 1</td><td>Real Bed</td><td>TV,Cable TV,Internet,Wireless Internet,Air conditioning,Wheelchair accessible,Kitchen,Doorman,Elevator in building,Buzzer/wireless intercom,Heating,Washer,Smoke detector,Carbon monoxide detector,First aid kit,Safety card,Fire extinguisher,Essentials,Shampoo,24-hour check-in,Hangers,Hair dryer,Iron,Laptop friendly workspace,Self Check-In,Doorman Entry</td><td> NA</td><td>55</td><td> 95</td><td>      NA</td></tr>\n",
       "\t<tr><th scope=row>8</th><td>28004</td><td>Universidad</td><td>Apartment</td><td>Entire home/apt</td><td>3</td><td>1</td><td>1</td><td>NA</td><td>Real Bed</td><td>TV,Wireless Internet,Air conditioning,Kitchen,Elevator in building,Buzzer/wireless intercom,Heating,Washer                                                                                                                                                                                                                                                      </td><td> NA</td><td>70</td><td> 84</td><td>      NA</td></tr>\n",
       "</tbody>\n",
       "</table>\n"
      ],
      "text/latex": [
       "A data.frame: 6 × 14\n",
       "\\begin{tabular}{r|llllllllllllll}\n",
       "  & CodigoPostal & Barrio & TipoPropiedad & TipoAlquiler & MaxOcupantes & NumBanyos & NumDormitorios & NumCamas & TipoCama & Comodidades & PiesCuadrados & Precio & Puntuacion & MetrosCuadrados\\\\\n",
       "  & <fct> & <fct> & <fct> & <fct> & <int> & <dbl> & <int> & <int> & <fct> & <fct> & <int> & <int> & <int> & <dbl>\\\\\n",
       "\\hline\n",
       "\t2 & 28004 & Universidad & Apartment & Entire home/apt & 6 & 1 & 3 &  5 & Real Bed & TV,Internet,Wireless Internet,Air conditioning,Kitchen,Indoor fireplace,Heating,Family/kid friendly,Washer,Dryer,Smoke detector,Carbon monoxide detector,Essentials,Shampoo                                                                                                                                                                                      &  NA & 92 &  96 &       NA\\\\\n",
       "\t3 & 28004 & Universidad & Apartment & Entire home/apt & 3 & 1 & 2 &  2 & Real Bed & TV,Internet,Wireless Internet,Air conditioning,Kitchen,Doorman,Heating,Family/kid friendly,Washer,Essentials,Shampoo,Hangers,Hair dryer,Iron,Laptop friendly workspace                                                                                                                                                                                           &  NA & 55 &  91 &       NA\\\\\n",
       "\t4 & 28004 & Universidad & Loft      & Entire home/apt & 3 & 2 & 1 &  1 & Real Bed & TV,Internet,Wireless Internet,Air conditioning,Kitchen,Pets allowed,Breakfast,Elevator in building,Indoor fireplace,Buzzer/wireless intercom,Heating,Washer,Essentials,Shampoo,Hangers,Hair dryer,Iron,Laptop friendly workspace,translation missing: en.hosting\\_amenity\\_49,translation missing: en.hosting\\_amenity\\_50                                           &  NA & 60 & 100 &       NA\\\\\n",
       "\t5 & 28015 & Universidad & Apartment & Entire home/apt & 5 & 1 & 1 &  1 & Real Bed & TV,Wireless Internet,Air conditioning,Kitchen,Smoking allowed,Pets allowed,Elevator in building,Heating,Family/kid friendly,Washer,Essentials,Iron                                                                                                                                                                                                               & 538 & 75 &  90 & 49.98181\\\\\n",
       "\t6 & 28004 & Universidad & Apartment & Entire home/apt & 2 & 1 & 0 &  1 & Real Bed & TV,Cable TV,Internet,Wireless Internet,Air conditioning,Wheelchair accessible,Kitchen,Doorman,Elevator in building,Buzzer/wireless intercom,Heating,Washer,Smoke detector,Carbon monoxide detector,First aid kit,Safety card,Fire extinguisher,Essentials,Shampoo,24-hour check-in,Hangers,Hair dryer,Iron,Laptop friendly workspace,Self Check-In,Doorman Entry &  NA & 55 &  95 &       NA\\\\\n",
       "\t8 & 28004 & Universidad & Apartment & Entire home/apt & 3 & 1 & 1 & NA & Real Bed & TV,Wireless Internet,Air conditioning,Kitchen,Elevator in building,Buzzer/wireless intercom,Heating,Washer                                                                                                                                                                                                                                                       &  NA & 70 &  84 &       NA\\\\\n",
       "\\end{tabular}\n"
      ],
      "text/markdown": [
       "\n",
       "A data.frame: 6 × 14\n",
       "\n",
       "| <!--/--> | CodigoPostal &lt;fct&gt; | Barrio &lt;fct&gt; | TipoPropiedad &lt;fct&gt; | TipoAlquiler &lt;fct&gt; | MaxOcupantes &lt;int&gt; | NumBanyos &lt;dbl&gt; | NumDormitorios &lt;int&gt; | NumCamas &lt;int&gt; | TipoCama &lt;fct&gt; | Comodidades &lt;fct&gt; | PiesCuadrados &lt;int&gt; | Precio &lt;int&gt; | Puntuacion &lt;int&gt; | MetrosCuadrados &lt;dbl&gt; |\n",
       "|---|---|---|---|---|---|---|---|---|---|---|---|---|---|---|\n",
       "| 2 | 28004 | Universidad | Apartment | Entire home/apt | 6 | 1 | 3 |  5 | Real Bed | TV,Internet,Wireless Internet,Air conditioning,Kitchen,Indoor fireplace,Heating,Family/kid friendly,Washer,Dryer,Smoke detector,Carbon monoxide detector,Essentials,Shampoo                                                                                                                                                                                      |  NA | 92 |  96 |       NA |\n",
       "| 3 | 28004 | Universidad | Apartment | Entire home/apt | 3 | 1 | 2 |  2 | Real Bed | TV,Internet,Wireless Internet,Air conditioning,Kitchen,Doorman,Heating,Family/kid friendly,Washer,Essentials,Shampoo,Hangers,Hair dryer,Iron,Laptop friendly workspace                                                                                                                                                                                           |  NA | 55 |  91 |       NA |\n",
       "| 4 | 28004 | Universidad | Loft      | Entire home/apt | 3 | 2 | 1 |  1 | Real Bed | TV,Internet,Wireless Internet,Air conditioning,Kitchen,Pets allowed,Breakfast,Elevator in building,Indoor fireplace,Buzzer/wireless intercom,Heating,Washer,Essentials,Shampoo,Hangers,Hair dryer,Iron,Laptop friendly workspace,translation missing: en.hosting_amenity_49,translation missing: en.hosting_amenity_50                                           |  NA | 60 | 100 |       NA |\n",
       "| 5 | 28015 | Universidad | Apartment | Entire home/apt | 5 | 1 | 1 |  1 | Real Bed | TV,Wireless Internet,Air conditioning,Kitchen,Smoking allowed,Pets allowed,Elevator in building,Heating,Family/kid friendly,Washer,Essentials,Iron                                                                                                                                                                                                               | 538 | 75 |  90 | 49.98181 |\n",
       "| 6 | 28004 | Universidad | Apartment | Entire home/apt | 2 | 1 | 0 |  1 | Real Bed | TV,Cable TV,Internet,Wireless Internet,Air conditioning,Wheelchair accessible,Kitchen,Doorman,Elevator in building,Buzzer/wireless intercom,Heating,Washer,Smoke detector,Carbon monoxide detector,First aid kit,Safety card,Fire extinguisher,Essentials,Shampoo,24-hour check-in,Hangers,Hair dryer,Iron,Laptop friendly workspace,Self Check-In,Doorman Entry |  NA | 55 |  95 |       NA |\n",
       "| 8 | 28004 | Universidad | Apartment | Entire home/apt | 3 | 1 | 1 | NA | Real Bed | TV,Wireless Internet,Air conditioning,Kitchen,Elevator in building,Buzzer/wireless intercom,Heating,Washer                                                                                                                                                                                                                                                       |  NA | 70 |  84 |       NA |\n",
       "\n"
      ],
      "text/plain": [
       "  CodigoPostal Barrio      TipoPropiedad TipoAlquiler    MaxOcupantes NumBanyos\n",
       "2 28004        Universidad Apartment     Entire home/apt 6            1        \n",
       "3 28004        Universidad Apartment     Entire home/apt 3            1        \n",
       "4 28004        Universidad Loft          Entire home/apt 3            2        \n",
       "5 28015        Universidad Apartment     Entire home/apt 5            1        \n",
       "6 28004        Universidad Apartment     Entire home/apt 2            1        \n",
       "8 28004        Universidad Apartment     Entire home/apt 3            1        \n",
       "  NumDormitorios NumCamas TipoCama\n",
       "2 3               5       Real Bed\n",
       "3 2               2       Real Bed\n",
       "4 1               1       Real Bed\n",
       "5 1               1       Real Bed\n",
       "6 0               1       Real Bed\n",
       "8 1              NA       Real Bed\n",
       "  Comodidades                                                                                                                                                                                                                                                                                                                                                     \n",
       "2 TV,Internet,Wireless Internet,Air conditioning,Kitchen,Indoor fireplace,Heating,Family/kid friendly,Washer,Dryer,Smoke detector,Carbon monoxide detector,Essentials,Shampoo                                                                                                                                                                                     \n",
       "3 TV,Internet,Wireless Internet,Air conditioning,Kitchen,Doorman,Heating,Family/kid friendly,Washer,Essentials,Shampoo,Hangers,Hair dryer,Iron,Laptop friendly workspace                                                                                                                                                                                          \n",
       "4 TV,Internet,Wireless Internet,Air conditioning,Kitchen,Pets allowed,Breakfast,Elevator in building,Indoor fireplace,Buzzer/wireless intercom,Heating,Washer,Essentials,Shampoo,Hangers,Hair dryer,Iron,Laptop friendly workspace,translation missing: en.hosting_amenity_49,translation missing: en.hosting_amenity_50                                          \n",
       "5 TV,Wireless Internet,Air conditioning,Kitchen,Smoking allowed,Pets allowed,Elevator in building,Heating,Family/kid friendly,Washer,Essentials,Iron                                                                                                                                                                                                              \n",
       "6 TV,Cable TV,Internet,Wireless Internet,Air conditioning,Wheelchair accessible,Kitchen,Doorman,Elevator in building,Buzzer/wireless intercom,Heating,Washer,Smoke detector,Carbon monoxide detector,First aid kit,Safety card,Fire extinguisher,Essentials,Shampoo,24-hour check-in,Hangers,Hair dryer,Iron,Laptop friendly workspace,Self Check-In,Doorman Entry\n",
       "8 TV,Wireless Internet,Air conditioning,Kitchen,Elevator in building,Buzzer/wireless intercom,Heating,Washer                                                                                                                                                                                                                                                      \n",
       "  PiesCuadrados Precio Puntuacion MetrosCuadrados\n",
       "2  NA           92      96              NA       \n",
       "3  NA           55      91              NA       \n",
       "4  NA           60     100              NA       \n",
       "5 538           75      90        49.98181       \n",
       "6  NA           55      95              NA       \n",
       "8  NA           70      84              NA       "
      ]
     },
     "metadata": {},
     "output_type": "display_data"
    }
   ],
   "source": [
    "airbnb_entire<-subset(airbnb, TipoAlquiler==\"Entire home/apt\")\n",
    "head(airbnb_entire)"
   ]
  },
  {
   "cell_type": "markdown",
   "metadata": {},
   "source": [
    "¿Cuales son los 5 barrios que tienen un mayor número de apartamentos enteros en alquiler?\n",
    "Nota: Mirar solo en airbnb_entire. A partir de este punto y hasta que se diga lo contrario partiremos de airbnb_entire."
   ]
  },
  {
   "cell_type": "code",
   "execution_count": 21,
   "metadata": {},
   "outputs": [
    {
     "name": "stdout",
     "output_type": "stream",
     "text": [
      "[1] \"Los 5 barrios con mayor número de apartamentos en alquiler son:\"\n"
     ]
    },
    {
     "data": {
      "text/plain": [
       "\n",
       "Embajadores Universidad     Palacio         Sol      Cortes    Justicia \n",
       "       1228         984         769         701         574         534 "
      ]
     },
     "metadata": {},
     "output_type": "display_data"
    }
   ],
   "source": [
    "print(\"Los 5 barrios con mayor número de apartamentos en alquiler son:\")\n",
    "head(sort(table(airbnb_entire$Barrio), decreasing=T, 5))"
   ]
  },
  {
   "cell_type": "markdown",
   "metadata": {},
   "source": [
    "¿Cuales son los 5 barrios que tienen un mayor precio medio de alquiler para apartamentos enteros (es decir, del dataframe airbnb_entire)?\n",
    "\n",
    "¿Cual es su precio medio?\n",
    "\n",
    "Ayuda: Usa la función aggregate `aggregate(.~colname,df,mean,na.rm=TRUE)`"
   ]
  },
  {
   "cell_type": "code",
   "execution_count": 22,
   "metadata": {},
   "outputs": [
    {
     "data": {
      "text/html": [
       "<style>\n",
       ".list-inline {list-style: none; margin:0; padding: 0}\n",
       ".list-inline>li {display: inline-block}\n",
       ".list-inline>li:not(:last-child)::after {content: \"\\00b7\"; padding: 0 .5ex}\n",
       "</style>\n",
       "<ol class=list-inline><li>119</li><li>2</li></ol>\n"
      ],
      "text/latex": [
       "\\begin{enumerate*}\n",
       "\\item 119\n",
       "\\item 2\n",
       "\\end{enumerate*}\n"
      ],
      "text/markdown": [
       "1. 119\n",
       "2. 2\n",
       "\n",
       "\n"
      ],
      "text/plain": [
       "[1] 119   2"
      ]
     },
     "metadata": {},
     "output_type": "display_data"
    },
    {
     "data": {
      "text/html": [
       "<table class=\"dataframe\">\n",
       "<caption>A data.frame: 5 × 2</caption>\n",
       "<thead>\n",
       "\t<tr><th></th><th scope=col>Barrio</th><th scope=col>Precio</th></tr>\n",
       "\t<tr><th></th><th scope=col>&lt;fct&gt;</th><th scope=col>&lt;dbl&gt;</th></tr>\n",
       "</thead>\n",
       "<tbody>\n",
       "\t<tr><th scope=row>77</th><td>Palomas      </td><td>309.7500</td></tr>\n",
       "\t<tr><th scope=row>50</th><td>Fuentelareina</td><td>180.0000</td></tr>\n",
       "\t<tr><th scope=row>93</th><td>Recoletos    </td><td>161.9254</td></tr>\n",
       "\t<tr><th scope=row>43</th><td>El Plantío   </td><td>150.0000</td></tr>\n",
       "\t<tr><th scope=row>30</th><td>Castellana   </td><td>141.3889</td></tr>\n",
       "</tbody>\n",
       "</table>\n"
      ],
      "text/latex": [
       "A data.frame: 5 × 2\n",
       "\\begin{tabular}{r|ll}\n",
       "  & Barrio & Precio\\\\\n",
       "  & <fct> & <dbl>\\\\\n",
       "\\hline\n",
       "\t77 & Palomas       & 309.7500\\\\\n",
       "\t50 & Fuentelareina & 180.0000\\\\\n",
       "\t93 & Recoletos     & 161.9254\\\\\n",
       "\t43 & El Plantío    & 150.0000\\\\\n",
       "\t30 & Castellana    & 141.3889\\\\\n",
       "\\end{tabular}\n"
      ],
      "text/markdown": [
       "\n",
       "A data.frame: 5 × 2\n",
       "\n",
       "| <!--/--> | Barrio &lt;fct&gt; | Precio &lt;dbl&gt; |\n",
       "|---|---|---|\n",
       "| 77 | Palomas       | 309.7500 |\n",
       "| 50 | Fuentelareina | 180.0000 |\n",
       "| 93 | Recoletos     | 161.9254 |\n",
       "| 43 | El Plantío    | 150.0000 |\n",
       "| 30 | Castellana    | 141.3889 |\n",
       "\n"
      ],
      "text/plain": [
       "   Barrio        Precio  \n",
       "77 Palomas       309.7500\n",
       "50 Fuentelareina 180.0000\n",
       "93 Recoletos     161.9254\n",
       "43 El Plantío    150.0000\n",
       "30 Castellana    141.3889"
      ]
     },
     "metadata": {},
     "output_type": "display_data"
    }
   ],
   "source": [
    "mean_price<-aggregate(. ~ Barrio, airbnb_entire[c(\"Barrio\",\"Precio\")], mean,na.rm=TRUE)\n",
    "dim(mean_price)\n",
    "mean_price<-mean_price[order(mean_price$Precio,decreasing = T),]\n",
    "head(mean_price,5)\n",
    "barriosTOP<-head(mean_price,5)$Barrio"
   ]
  },
  {
   "cell_type": "markdown",
   "metadata": {},
   "source": [
    "¿Cuantos apartamentos hay en cada uno de esos barrios?\n",
    "\n",
    "Mostrar una dataframe con el nombre del barrio, el precio y el número de entradas.\n",
    "\n",
    "Ayuda: Podeis crear un nuevo dataframe con las columnas \"Barrio\" y \"Freq\" que contenga el número de entradas en cada barrio y hacer un merge con el dataframe del punto anterior."
   ]
  },
  {
   "cell_type": "code",
   "execution_count": 23,
   "metadata": {},
   "outputs": [
    {
     "data": {
      "text/html": [
       "<table class=\"dataframe\">\n",
       "<caption>A data.frame: 5 × 3</caption>\n",
       "<thead>\n",
       "\t<tr><th></th><th scope=col>Barrio</th><th scope=col>Freq</th><th scope=col>Precio</th></tr>\n",
       "\t<tr><th></th><th scope=col>&lt;fct&gt;</th><th scope=col>&lt;int&gt;</th><th scope=col>&lt;dbl&gt;</th></tr>\n",
       "</thead>\n",
       "<tbody>\n",
       "\t<tr><th scope=row>77</th><td>Palomas      </td><td>  4</td><td>309.7500</td></tr>\n",
       "\t<tr><th scope=row>50</th><td>Fuentelareina</td><td>  2</td><td>180.0000</td></tr>\n",
       "\t<tr><th scope=row>93</th><td>Recoletos    </td><td>135</td><td>161.9254</td></tr>\n",
       "\t<tr><th scope=row>43</th><td>El Plantío   </td><td>  1</td><td>150.0000</td></tr>\n",
       "\t<tr><th scope=row>30</th><td>Castellana   </td><td> 73</td><td>141.3889</td></tr>\n",
       "</tbody>\n",
       "</table>\n"
      ],
      "text/latex": [
       "A data.frame: 5 × 3\n",
       "\\begin{tabular}{r|lll}\n",
       "  & Barrio & Freq & Precio\\\\\n",
       "  & <fct> & <int> & <dbl>\\\\\n",
       "\\hline\n",
       "\t77 & Palomas       &   4 & 309.7500\\\\\n",
       "\t50 & Fuentelareina &   2 & 180.0000\\\\\n",
       "\t93 & Recoletos     & 135 & 161.9254\\\\\n",
       "\t43 & El Plantío    &   1 & 150.0000\\\\\n",
       "\t30 & Castellana    &  73 & 141.3889\\\\\n",
       "\\end{tabular}\n"
      ],
      "text/markdown": [
       "\n",
       "A data.frame: 5 × 3\n",
       "\n",
       "| <!--/--> | Barrio &lt;fct&gt; | Freq &lt;int&gt; | Precio &lt;dbl&gt; |\n",
       "|---|---|---|---|\n",
       "| 77 | Palomas       |   4 | 309.7500 |\n",
       "| 50 | Fuentelareina |   2 | 180.0000 |\n",
       "| 93 | Recoletos     | 135 | 161.9254 |\n",
       "| 43 | El Plantío    |   1 | 150.0000 |\n",
       "| 30 | Castellana    |  73 | 141.3889 |\n",
       "\n"
      ],
      "text/plain": [
       "   Barrio        Freq Precio  \n",
       "77 Palomas         4  309.7500\n",
       "50 Fuentelareina   2  180.0000\n",
       "93 Recoletos     135  161.9254\n",
       "43 El Plantío      1  150.0000\n",
       "30 Castellana     73  141.3889"
      ]
     },
     "metadata": {},
     "output_type": "display_data"
    }
   ],
   "source": [
    "count_value<-data.frame(table(airbnb_entire$Barrio))\n",
    "colnames(count_value)<-c(\"Barrio\",\"Freq\")\n",
    "mean_price<-merge(count_value,mean_price,by=\"Barrio\")\n",
    "\n",
    "mean_price<-mean_price[order(mean_price$Precio,decreasing = T),]\n",
    "head(mean_price,5)"
   ]
  },
  {
   "cell_type": "markdown",
   "metadata": {},
   "source": [
    "Partiendo del dataframe anterior, muestra los 5 barrios con mayor precio, pero que tengan más de 100 entradas de alquiler."
   ]
  },
  {
   "cell_type": "code",
   "execution_count": 24,
   "metadata": {},
   "outputs": [
    {
     "data": {
      "text/html": [
       "<table class=\"dataframe\">\n",
       "<caption>A data.frame: 5 × 3</caption>\n",
       "<thead>\n",
       "\t<tr><th></th><th scope=col>Barrio</th><th scope=col>Freq</th><th scope=col>Precio</th></tr>\n",
       "\t<tr><th></th><th scope=col>&lt;fct&gt;</th><th scope=col>&lt;int&gt;</th><th scope=col>&lt;dbl&gt;</th></tr>\n",
       "</thead>\n",
       "<tbody>\n",
       "\t<tr><th scope=row>93</th><td>Recoletos</td><td>135</td><td>161.92537</td></tr>\n",
       "\t<tr><th scope=row>52</th><td>Goya     </td><td>142</td><td>111.33803</td></tr>\n",
       "\t<tr><th scope=row>106</th><td>Sol      </td><td>701</td><td>100.75036</td></tr>\n",
       "\t<tr><th scope=row>108</th><td>Trafalgar</td><td>223</td><td> 98.57848</td></tr>\n",
       "\t<tr><th scope=row>59</th><td>Justicia </td><td>534</td><td> 98.25468</td></tr>\n",
       "</tbody>\n",
       "</table>\n"
      ],
      "text/latex": [
       "A data.frame: 5 × 3\n",
       "\\begin{tabular}{r|lll}\n",
       "  & Barrio & Freq & Precio\\\\\n",
       "  & <fct> & <int> & <dbl>\\\\\n",
       "\\hline\n",
       "\t93 & Recoletos & 135 & 161.92537\\\\\n",
       "\t52 & Goya      & 142 & 111.33803\\\\\n",
       "\t106 & Sol       & 701 & 100.75036\\\\\n",
       "\t108 & Trafalgar & 223 &  98.57848\\\\\n",
       "\t59 & Justicia  & 534 &  98.25468\\\\\n",
       "\\end{tabular}\n"
      ],
      "text/markdown": [
       "\n",
       "A data.frame: 5 × 3\n",
       "\n",
       "| <!--/--> | Barrio &lt;fct&gt; | Freq &lt;int&gt; | Precio &lt;dbl&gt; |\n",
       "|---|---|---|---|\n",
       "| 93 | Recoletos | 135 | 161.92537 |\n",
       "| 52 | Goya      | 142 | 111.33803 |\n",
       "| 106 | Sol       | 701 | 100.75036 |\n",
       "| 108 | Trafalgar | 223 |  98.57848 |\n",
       "| 59 | Justicia  | 534 |  98.25468 |\n",
       "\n"
      ],
      "text/plain": [
       "    Barrio    Freq Precio   \n",
       "93  Recoletos 135  161.92537\n",
       "52  Goya      142  111.33803\n",
       "106 Sol       701  100.75036\n",
       "108 Trafalgar 223   98.57848\n",
       "59  Justicia  534   98.25468"
      ]
     },
     "metadata": {},
     "output_type": "display_data"
    }
   ],
   "source": [
    "mean_price_100<-subset(mean_price,mean_price$Freq>100)\n",
    "\n",
    "head(mean_price_100,5)\n",
    "barrios<-head(mean_price_100,5)$Barrio"
   ]
  },
  {
   "cell_type": "markdown",
   "metadata": {},
   "source": [
    "Dibuja el diagrama de densidad de distribución de los diferentes precios. Serían 5 gráficas, una por cada barrio."
   ]
  },
  {
   "cell_type": "code",
   "execution_count": 25,
   "metadata": {},
   "outputs": [
    {
     "name": "stderr",
     "output_type": "stream",
     "text": [
      "Warning message:\n",
      "“Removed 1 rows containing non-finite values (stat_density).”\n"
     ]
    },
    {
     "data": {
      "image/png": "[encoded data removed]",
      "text/plain": [
       "plot without title"
      ]
     },
     "metadata": {
      "image/png": {
       "height": 240,
       "width": 360
      }
     },
     "output_type": "display_data"
    }
   ],
   "source": [
    "barriosp<-subset(airbnb_entire,Barrio %in% barrios)\n",
    "ggplot(barriosp,aes(x=Precio,color=Barrio))+geom_density(bw=10)"
   ]
  },
  {
   "cell_type": "markdown",
   "metadata": {},
   "source": [
    "Calcula el tamaño medio, en metros cuadrados, para los 5 barrios anteriores y muestralo en el mismo dataframe junto con el precio y número de entradas"
   ]
  },
  {
   "cell_type": "code",
   "execution_count": 26,
   "metadata": {},
   "outputs": [
    {
     "data": {
      "text/html": [
       "<table class=\"dataframe\">\n",
       "<caption>A data.frame: 5 × 4</caption>\n",
       "<thead>\n",
       "\t<tr><th></th><th scope=col>Barrio</th><th scope=col>Freq</th><th scope=col>Precio</th><th scope=col>MetrosCuadrados</th></tr>\n",
       "\t<tr><th></th><th scope=col>&lt;fct&gt;</th><th scope=col>&lt;int&gt;</th><th scope=col>&lt;dbl&gt;</th><th scope=col>&lt;dbl&gt;</th></tr>\n",
       "</thead>\n",
       "<tbody>\n",
       "\t<tr><th scope=row>8</th><td>Recoletos</td><td>135</td><td>161.92537</td><td>26.66316</td></tr>\n",
       "\t<tr><th scope=row>4</th><td>Goya     </td><td>142</td><td>111.33803</td><td>51.68504</td></tr>\n",
       "\t<tr><th scope=row>9</th><td>Sol      </td><td>701</td><td>100.75036</td><td>45.61692</td></tr>\n",
       "\t<tr><th scope=row>10</th><td>Trafalgar</td><td>223</td><td> 98.57848</td><td>29.30426</td></tr>\n",
       "\t<tr><th scope=row>5</th><td>Justicia </td><td>534</td><td> 98.25468</td><td>28.52669</td></tr>\n",
       "</tbody>\n",
       "</table>\n"
      ],
      "text/latex": [
       "A data.frame: 5 × 4\n",
       "\\begin{tabular}{r|llll}\n",
       "  & Barrio & Freq & Precio & MetrosCuadrados\\\\\n",
       "  & <fct> & <int> & <dbl> & <dbl>\\\\\n",
       "\\hline\n",
       "\t8 & Recoletos & 135 & 161.92537 & 26.66316\\\\\n",
       "\t4 & Goya      & 142 & 111.33803 & 51.68504\\\\\n",
       "\t9 & Sol       & 701 & 100.75036 & 45.61692\\\\\n",
       "\t10 & Trafalgar & 223 &  98.57848 & 29.30426\\\\\n",
       "\t5 & Justicia  & 534 &  98.25468 & 28.52669\\\\\n",
       "\\end{tabular}\n"
      ],
      "text/markdown": [
       "\n",
       "A data.frame: 5 × 4\n",
       "\n",
       "| <!--/--> | Barrio &lt;fct&gt; | Freq &lt;int&gt; | Precio &lt;dbl&gt; | MetrosCuadrados &lt;dbl&gt; |\n",
       "|---|---|---|---|---|\n",
       "| 8 | Recoletos | 135 | 161.92537 | 26.66316 |\n",
       "| 4 | Goya      | 142 | 111.33803 | 51.68504 |\n",
       "| 9 | Sol       | 701 | 100.75036 | 45.61692 |\n",
       "| 10 | Trafalgar | 223 |  98.57848 | 29.30426 |\n",
       "| 5 | Justicia  | 534 |  98.25468 | 28.52669 |\n",
       "\n"
      ],
      "text/plain": [
       "   Barrio    Freq Precio    MetrosCuadrados\n",
       "8  Recoletos 135  161.92537 26.66316       \n",
       "4  Goya      142  111.33803 51.68504       \n",
       "9  Sol       701  100.75036 45.61692       \n",
       "10 Trafalgar 223   98.57848 29.30426       \n",
       "5  Justicia  534   98.25468 28.52669       "
      ]
     },
     "metadata": {},
     "output_type": "display_data"
    }
   ],
   "source": [
    "mean_size<-aggregate(. ~ Barrio, airbnb_entire[c(\"Barrio\",\"MetrosCuadrados\")], mean,na.rm=TRUE)\n",
    "mean_price_size_100<-merge(mean_price_100,mean_size,by=\"Barrio\")\n",
    "\n",
    "mean_price_size_100<-mean_price_size_100[order(mean_price_size_100$Precio,decreasing = T),]\n",
    "head(mean_price_size_100,5)"
   ]
  },
  {
   "cell_type": "markdown",
   "metadata": {},
   "source": [
    "Dibuja el diagrama de densidad de distribución de los diferentes tamaños de apartamentos. Serían 5 gráficas, una por cada barrio."
   ]
  },
  {
   "cell_type": "code",
   "execution_count": 27,
   "metadata": {},
   "outputs": [
    {
     "name": "stderr",
     "output_type": "stream",
     "text": [
      "Warning message:\n",
      "“Removed 1645 rows containing non-finite values (stat_density).”\n"
     ]
    },
    {
     "data": {
      "image/png": "[encoded data removed]",
      "text/plain": [
       "plot without title"
      ]
     },
     "metadata": {
      "image/png": {
       "height": 240,
       "width": 360
      }
     },
     "output_type": "display_data"
    }
   ],
   "source": [
    "barriosp<-subset(airbnb_entire,Barrio %in% barrios)\n",
    "ggplot(barriosp,aes(x=MetrosCuadrados,color=Barrio))+geom_density()"
   ]
  },
  {
   "cell_type": "markdown",
   "metadata": {},
   "source": [
    "Esta claro que las medias de metros cuadrados de cada uno de estos 5 barrios parecen ser diferentes, pero ¿son estadísticamente diferentes?\n",
    "¿Que test habría que usar para comprobarlo?"
   ]
  },
  {
   "cell_type": "code",
   "execution_count": 28,
   "metadata": {},
   "outputs": [
    {
     "name": "stdout",
     "output_type": "stream",
     "text": [
      "[1] \"La media de metros cuadrados en Recoletos es de:\"\n"
     ]
    },
    {
     "data": {
      "text/html": [
       "26.663161"
      ],
      "text/latex": [
       "26.663161"
      ],
      "text/markdown": [
       "26.663161"
      ],
      "text/plain": [
       "[1] 26.66316"
      ]
     },
     "metadata": {},
     "output_type": "display_data"
    },
    {
     "name": "stdout",
     "output_type": "stream",
     "text": [
      "[1] \"La media de metros cuadrados en Goya es de:\"\n"
     ]
    },
    {
     "data": {
      "text/html": [
       "51.6850356666667"
      ],
      "text/latex": [
       "51.6850356666667"
      ],
      "text/markdown": [
       "51.6850356666667"
      ],
      "text/plain": [
       "[1] 51.68504"
      ]
     },
     "metadata": {},
     "output_type": "display_data"
    },
    {
     "name": "stdout",
     "output_type": "stream",
     "text": [
      "[1] \"La media de metros cuadrados en Sol es de:\"\n"
     ]
    },
    {
     "data": {
      "text/html": [
       "45.6169213833333"
      ],
      "text/latex": [
       "45.6169213833333"
      ],
      "text/markdown": [
       "45.6169213833333"
      ],
      "text/plain": [
       "[1] 45.61692"
      ]
     },
     "metadata": {},
     "output_type": "display_data"
    },
    {
     "name": "stdout",
     "output_type": "stream",
     "text": [
      "[1] \"La media de metros cuadrados en Trafalgar es de:\"\n"
     ]
    },
    {
     "data": {
      "text/html": [
       "29.3042605714286"
      ],
      "text/latex": [
       "29.3042605714286"
      ],
      "text/markdown": [
       "29.3042605714286"
      ],
      "text/plain": [
       "[1] 29.30426"
      ]
     },
     "metadata": {},
     "output_type": "display_data"
    },
    {
     "name": "stdout",
     "output_type": "stream",
     "text": [
      "[1] \"La media de metros cuadrados en Justicia es de:\"\n"
     ]
    },
    {
     "data": {
      "text/html": [
       "28.5266858823529"
      ],
      "text/latex": [
       "28.5266858823529"
      ],
      "text/markdown": [
       "28.5266858823529"
      ],
      "text/plain": [
       "[1] 28.52669"
      ]
     },
     "metadata": {},
     "output_type": "display_data"
    },
    {
     "name": "stdout",
     "output_type": "stream",
     "text": [
      "[1] \"Obtenemos un p.valor de:\"\n"
     ]
    },
    {
     "data": {
      "text/html": [
       "0.757443581555649"
      ],
      "text/latex": [
       "0.757443581555649"
      ],
      "text/markdown": [
       "0.757443581555649"
      ],
      "text/plain": [
       "[1] 0.7574436"
      ]
     },
     "metadata": {},
     "output_type": "display_data"
    },
    {
     "name": "stdout",
     "output_type": "stream",
     "text": [
      "[1] \"A pesar de obtener un p.valor muy alto no hay evidencias suficientes que puedan determinar el tamaño en cada barrio\"\n"
     ]
    }
   ],
   "source": [
    "print(\"La media de metros cuadrados en Recoletos es de:\")\n",
    "mean(barriosp$MetrosCuadrados[barriosp$Barrio==\"Recoletos\"], na.rm=TRUE)\n",
    "print(\"La media de metros cuadrados en Goya es de:\")\n",
    "mean(barriosp$MetrosCuadrados[barriosp$Barrio==\"Goya\"], na.rm=TRUE)\n",
    "print(\"La media de metros cuadrados en Sol es de:\")\n",
    "mean(barriosp$MetrosCuadrados[barriosp$Barrio==\"Sol\"], na.rm=TRUE)\n",
    "print(\"La media de metros cuadrados en Trafalgar es de:\")\n",
    "mean(barriosp$MetrosCuadrados[barriosp$Barrio==\"Trafalgar\"], na.rm=TRUE)\n",
    "print(\"La media de metros cuadrados en Justicia es de:\")\n",
    "mean(barriosp$MetrosCuadrados[barriosp$Barrio==\"Justicia\"], na.rm=TRUE)\n",
    "\n",
    "\n",
    "\n",
    "#Realizamos un Kruskal test\n",
    "kruskal<-kruskal.test( MetrosCuadrados ~ Barrio, barriosp)\n",
    "print(\"Obtenemos un p.valor de:\")\n",
    "kruskal$p.value\n",
    "\n",
    "print(\"A pesar de obtener un p.valor muy alto no hay evidencias suficientes que puedan determinar el tamaño en cada barrio\")"
   ]
  },
  {
   "cell_type": "markdown",
   "metadata": {},
   "source": [
    "Para únicamente los pisos de alquiler en el barrio de Sol:\n",
    "\n",
    "``barrio_sol<-subset(airbnb_entire,Barrio==\"Sol\")``\n",
    "\n",
    "Calcular un modelo lineal que combine alguna de estas variables:\n",
    "* NumBanyos\n",
    "* NumDormitorios\n",
    "* MaxOcupantes\n",
    "* MetrosCuadrados"
   ]
  },
  {
   "cell_type": "code",
   "execution_count": 29,
   "metadata": {},
   "outputs": [],
   "source": [
    "barrio_sol<-subset(airbnb_entire,Barrio==\"Sol\")"
   ]
  },
  {
   "cell_type": "markdown",
   "metadata": {},
   "source": [
    "Primero calculamos la correlación para ver como se relacionan estas variables entre sí."
   ]
  },
  {
   "cell_type": "code",
   "execution_count": 30,
   "metadata": {},
   "outputs": [
    {
     "data": {
      "text/html": [
       "<table class=\"dataframe\">\n",
       "<caption>A matrix: 4 × 4 of type dbl</caption>\n",
       "<thead>\n",
       "\t<tr><th></th><th scope=col>NumBanyos</th><th scope=col>NumDormitorios</th><th scope=col>MaxOcupantes</th><th scope=col>MetrosCuadrados</th></tr>\n",
       "</thead>\n",
       "<tbody>\n",
       "\t<tr><th scope=row>NumBanyos</th><td>1.0000000</td><td>0.6761906</td><td>0.6578162</td><td>0.4820549</td></tr>\n",
       "\t<tr><th scope=row>NumDormitorios</th><td>0.6761906</td><td>1.0000000</td><td>0.7594598</td><td>0.5684521</td></tr>\n",
       "\t<tr><th scope=row>MaxOcupantes</th><td>0.6578162</td><td>0.7594598</td><td>1.0000000</td><td>0.4286233</td></tr>\n",
       "\t<tr><th scope=row>MetrosCuadrados</th><td>0.4820549</td><td>0.5684521</td><td>0.4286233</td><td>1.0000000</td></tr>\n",
       "</tbody>\n",
       "</table>\n"
      ],
      "text/latex": [
       "A matrix: 4 × 4 of type dbl\n",
       "\\begin{tabular}{r|llll}\n",
       "  & NumBanyos & NumDormitorios & MaxOcupantes & MetrosCuadrados\\\\\n",
       "\\hline\n",
       "\tNumBanyos & 1.0000000 & 0.6761906 & 0.6578162 & 0.4820549\\\\\n",
       "\tNumDormitorios & 0.6761906 & 1.0000000 & 0.7594598 & 0.5684521\\\\\n",
       "\tMaxOcupantes & 0.6578162 & 0.7594598 & 1.0000000 & 0.4286233\\\\\n",
       "\tMetrosCuadrados & 0.4820549 & 0.5684521 & 0.4286233 & 1.0000000\\\\\n",
       "\\end{tabular}\n"
      ],
      "text/markdown": [
       "\n",
       "A matrix: 4 × 4 of type dbl\n",
       "\n",
       "| <!--/--> | NumBanyos | NumDormitorios | MaxOcupantes | MetrosCuadrados |\n",
       "|---|---|---|---|---|\n",
       "| NumBanyos | 1.0000000 | 0.6761906 | 0.6578162 | 0.4820549 |\n",
       "| NumDormitorios | 0.6761906 | 1.0000000 | 0.7594598 | 0.5684521 |\n",
       "| MaxOcupantes | 0.6578162 | 0.7594598 | 1.0000000 | 0.4286233 |\n",
       "| MetrosCuadrados | 0.4820549 | 0.5684521 | 0.4286233 | 1.0000000 |\n",
       "\n"
      ],
      "text/plain": [
       "                NumBanyos NumDormitorios MaxOcupantes MetrosCuadrados\n",
       "NumBanyos       1.0000000 0.6761906      0.6578162    0.4820549      \n",
       "NumDormitorios  0.6761906 1.0000000      0.7594598    0.5684521      \n",
       "MaxOcupantes    0.6578162 0.7594598      1.0000000    0.4286233      \n",
       "MetrosCuadrados 0.4820549 0.5684521      0.4286233    1.0000000      "
      ]
     },
     "metadata": {},
     "output_type": "display_data"
    }
   ],
   "source": [
    "cor(barrio_sol[,c(\"NumBanyos\",\"NumDormitorios\",\"MaxOcupantes\",\"MetrosCuadrados\")],use=\"pairwise.complete.obs\")"
   ]
  },
  {
   "cell_type": "markdown",
   "metadata": {},
   "source": [
    "Se observa que la correlación entre el número de dormitorios y los metros cuadrados es sorprendentemente baja.\n",
    "¿Son de fiar esos números?\n",
    "\n",
    "Mediante un histograma o curvas de densidad podemos descartar números que notienen sentido en el dataframe barrio_sol,\n",
    "para tener una matriz de correlación que tenga mayor sentido.\n"
   ]
  },
  {
   "cell_type": "code",
   "execution_count": 31,
   "metadata": {},
   "outputs": [
    {
     "name": "stderr",
     "output_type": "stream",
     "text": [
      "Warning message:\n",
      "“Removed 641 rows containing non-finite values (stat_density).”\n"
     ]
    },
    {
     "data": {
      "image/png": "[encoded data removed]",
      "text/plain": [
       "plot without title"
      ]
     },
     "metadata": {
      "image/png": {
       "height": 240,
       "width": 360
      }
     },
     "output_type": "display_data"
    }
   ],
   "source": [
    "\n",
    "ggplot(barrio_sol,aes(x=MetrosCuadrados))+geom_density(bw=4)"
   ]
  },
  {
   "cell_type": "markdown",
   "metadata": {},
   "source": [
    "Una vez que hayamos filtrado los datos correspondientes calcular el valor o la combinación de valores que mejor nos permite obtener el precio de un inmueble."
   ]
  },
  {
   "cell_type": "code",
   "execution_count": 32,
   "metadata": {},
   "outputs": [
    {
     "data": {
      "text/html": [
       "701"
      ],
      "text/latex": [
       "701"
      ],
      "text/markdown": [
       "701"
      ],
      "text/plain": [
       "[1] 701"
      ]
     },
     "metadata": {},
     "output_type": "display_data"
    },
    {
     "data": {
      "text/html": [
       "35"
      ],
      "text/latex": [
       "35"
      ],
      "text/markdown": [
       "35"
      ],
      "text/plain": [
       "[1] 35"
      ]
     },
     "metadata": {},
     "output_type": "display_data"
    }
   ],
   "source": [
    "nrow(barrio_sol)\n",
    "barrio_sol<-subset(barrio_sol, MetrosCuadrados>15)\n",
    "nrow(barrio_sol)\n"
   ]
  },
  {
   "cell_type": "code",
   "execution_count": 33,
   "metadata": {},
   "outputs": [
    {
     "data": {
      "text/html": [
       "<table class=\"dataframe\">\n",
       "<caption>A matrix: 4 × 4 of type dbl</caption>\n",
       "<thead>\n",
       "\t<tr><th></th><th scope=col>NumBanyos</th><th scope=col>NumDormitorios</th><th scope=col>MaxOcupantes</th><th scope=col>MetrosCuadrados</th></tr>\n",
       "</thead>\n",
       "<tbody>\n",
       "\t<tr><th scope=row>NumBanyos</th><td>1.0000000</td><td>0.7292599</td><td>0.8589205</td><td>0.6113095</td></tr>\n",
       "\t<tr><th scope=row>NumDormitorios</th><td>0.7292599</td><td>1.0000000</td><td>0.7855310</td><td>0.8215065</td></tr>\n",
       "\t<tr><th scope=row>MaxOcupantes</th><td>0.8589205</td><td>0.7855310</td><td>1.0000000</td><td>0.7121088</td></tr>\n",
       "\t<tr><th scope=row>MetrosCuadrados</th><td>0.6113095</td><td>0.8215065</td><td>0.7121088</td><td>1.0000000</td></tr>\n",
       "</tbody>\n",
       "</table>\n"
      ],
      "text/latex": [
       "A matrix: 4 × 4 of type dbl\n",
       "\\begin{tabular}{r|llll}\n",
       "  & NumBanyos & NumDormitorios & MaxOcupantes & MetrosCuadrados\\\\\n",
       "\\hline\n",
       "\tNumBanyos & 1.0000000 & 0.7292599 & 0.8589205 & 0.6113095\\\\\n",
       "\tNumDormitorios & 0.7292599 & 1.0000000 & 0.7855310 & 0.8215065\\\\\n",
       "\tMaxOcupantes & 0.8589205 & 0.7855310 & 1.0000000 & 0.7121088\\\\\n",
       "\tMetrosCuadrados & 0.6113095 & 0.8215065 & 0.7121088 & 1.0000000\\\\\n",
       "\\end{tabular}\n"
      ],
      "text/markdown": [
       "\n",
       "A matrix: 4 × 4 of type dbl\n",
       "\n",
       "| <!--/--> | NumBanyos | NumDormitorios | MaxOcupantes | MetrosCuadrados |\n",
       "|---|---|---|---|---|\n",
       "| NumBanyos | 1.0000000 | 0.7292599 | 0.8589205 | 0.6113095 |\n",
       "| NumDormitorios | 0.7292599 | 1.0000000 | 0.7855310 | 0.8215065 |\n",
       "| MaxOcupantes | 0.8589205 | 0.7855310 | 1.0000000 | 0.7121088 |\n",
       "| MetrosCuadrados | 0.6113095 | 0.8215065 | 0.7121088 | 1.0000000 |\n",
       "\n"
      ],
      "text/plain": [
       "                NumBanyos NumDormitorios MaxOcupantes MetrosCuadrados\n",
       "NumBanyos       1.0000000 0.7292599      0.8589205    0.6113095      \n",
       "NumDormitorios  0.7292599 1.0000000      0.7855310    0.8215065      \n",
       "MaxOcupantes    0.8589205 0.7855310      1.0000000    0.7121088      \n",
       "MetrosCuadrados 0.6113095 0.8215065      0.7121088    1.0000000      "
      ]
     },
     "metadata": {},
     "output_type": "display_data"
    }
   ],
   "source": [
    "cor(barrio_sol[,c(\"NumBanyos\",\"NumDormitorios\",\"MaxOcupantes\",\"MetrosCuadrados\")],use=\"pairwise.complete.obs\")"
   ]
  },
  {
   "cell_type": "markdown",
   "metadata": {},
   "source": [
    "¿Que variable es más fiable para conocer el precio de un inmueble, el número de habitaciones o los metros cuadrados?"
   ]
  },
  {
   "cell_type": "code",
   "execution_count": 34,
   "metadata": {},
   "outputs": [
    {
     "data": {
      "text/plain": [
       "\n",
       "Call:\n",
       "lm(formula = Precio ~ NumBanyos + NumDormitorios + MaxOcupantes + \n",
       "    MetrosCuadrados, data = barrio_sol)\n",
       "\n",
       "Residuals:\n",
       "    Min      1Q  Median      3Q     Max \n",
       "-76.852 -13.673  -5.048  18.523  69.473 \n",
       "\n",
       "Coefficients:\n",
       "                Estimate Std. Error t value Pr(>|t|)   \n",
       "(Intercept)      28.0362    12.9584   2.164  0.03859 * \n",
       "NumBanyos         0.5647    14.6038   0.039  0.96941   \n",
       "NumDormitorios   28.2119     8.5440   3.302  0.00249 **\n",
       "MaxOcupantes      2.6738     4.4329   0.603  0.55093   \n",
       "MetrosCuadrados   0.2237     0.2050   1.091  0.28393   \n",
       "---\n",
       "Signif. codes:  0 ‘***’ 0.001 ‘**’ 0.01 ‘*’ 0.05 ‘.’ 0.1 ‘ ’ 1\n",
       "\n",
       "Residual standard error: 31.32 on 30 degrees of freedom\n",
       "Multiple R-squared:  0.7588,\tAdjusted R-squared:  0.7267 \n",
       "F-statistic:  23.6 on 4 and 30 DF,  p-value: 6.728e-09\n"
      ]
     },
     "metadata": {},
     "output_type": "display_data"
    }
   ],
   "source": [
    "model <- lm(barrio_sol, formula= Precio ~ NumBanyos+NumDormitorios+MaxOcupantes+MetrosCuadrados)\n",
    "summary(model)"
   ]
  },
  {
   "cell_type": "code",
   "execution_count": 35,
   "metadata": {},
   "outputs": [
    {
     "data": {
      "text/plain": [
       "\n",
       "Call:\n",
       "lm(formula = Precio ~ MetrosCuadrados, data = barrio_sol)\n",
       "\n",
       "Residuals:\n",
       "    Min      1Q  Median      3Q     Max \n",
       "-65.154 -18.405  -0.139   9.146 122.102 \n",
       "\n",
       "Coefficients:\n",
       "                Estimate Std. Error t value Pr(>|t|)    \n",
       "(Intercept)      30.9151    12.6752   2.439   0.0203 *  \n",
       "MetrosCuadrados   0.9796     0.1404   6.978  5.6e-08 ***\n",
       "---\n",
       "Signif. codes:  0 ‘***’ 0.001 ‘**’ 0.01 ‘*’ 0.05 ‘.’ 0.1 ‘ ’ 1\n",
       "\n",
       "Residual standard error: 38.65 on 33 degrees of freedom\n",
       "Multiple R-squared:  0.5961,\tAdjusted R-squared:  0.5838 \n",
       "F-statistic:  48.7 on 1 and 33 DF,  p-value: 5.596e-08\n"
      ]
     },
     "metadata": {},
     "output_type": "display_data"
    }
   ],
   "source": [
    "model <- lm(barrio_sol, formula= Precio ~ MetrosCuadrados)\n",
    "summary(model)"
   ]
  },
  {
   "cell_type": "code",
   "execution_count": 36,
   "metadata": {},
   "outputs": [
    {
     "data": {
      "text/plain": [
       "\n",
       "Call:\n",
       "lm(formula = Precio ~ NumDormitorios, data = barrio_sol)\n",
       "\n",
       "Residuals:\n",
       "    Min      1Q  Median      3Q     Max \n",
       "-89.704 -17.010  -5.768  19.490  61.296 \n",
       "\n",
       "Coefficients:\n",
       "               Estimate Std. Error t value Pr(>|t|)    \n",
       "(Intercept)      41.283      8.554   4.826 3.08e-05 ***\n",
       "NumDormitorios   39.484      4.078   9.682 3.61e-11 ***\n",
       "---\n",
       "Signif. codes:  0 ‘***’ 0.001 ‘**’ 0.01 ‘*’ 0.05 ‘.’ 0.1 ‘ ’ 1\n",
       "\n",
       "Residual standard error: 31.03 on 33 degrees of freedom\n",
       "Multiple R-squared:  0.7396,\tAdjusted R-squared:  0.7317 \n",
       "F-statistic: 93.75 on 1 and 33 DF,  p-value: 3.611e-11\n"
      ]
     },
     "metadata": {},
     "output_type": "display_data"
    }
   ],
   "source": [
    "model <- lm(barrio_sol, formula= Precio ~ NumDormitorios)\n",
    "summary(model)"
   ]
  },
  {
   "cell_type": "code",
   "execution_count": 37,
   "metadata": {},
   "outputs": [
    {
     "data": {
      "text/plain": [
       "\n",
       "Call:\n",
       "lm(formula = Precio ~ MetrosCuadrados + NumDormitorios, data = barrio_sol)\n",
       "\n",
       "Residuals:\n",
       "    Min      1Q  Median      3Q     Max \n",
       "-86.701 -15.056  -4.442  17.341  68.125 \n",
       "\n",
       "Coefficients:\n",
       "                Estimate Std. Error t value Pr(>|t|)    \n",
       "(Intercept)      34.0916    10.0930   3.378  0.00193 ** \n",
       "MetrosCuadrados   0.2558     0.1956   1.308  0.20025    \n",
       "NumDormitorios   31.8817     7.0761   4.506 8.31e-05 ***\n",
       "---\n",
       "Signif. codes:  0 ‘***’ 0.001 ‘**’ 0.01 ‘*’ 0.05 ‘.’ 0.1 ‘ ’ 1\n",
       "\n",
       "Residual standard error: 30.7 on 32 degrees of freedom\n",
       "Multiple R-squared:  0.7528,\tAdjusted R-squared:  0.7374 \n",
       "F-statistic: 48.74 on 2 and 32 DF,  p-value: 1.938e-10\n"
      ]
     },
     "metadata": {},
     "output_type": "display_data"
    }
   ],
   "source": [
    "model <- lm(barrio_sol, formula= Precio ~ MetrosCuadrados+NumDormitorios)\n",
    "summary(model)"
   ]
  },
  {
   "cell_type": "code",
   "execution_count": 38,
   "metadata": {},
   "outputs": [],
   "source": [
    "#Será más fiable la variable de numero de dormitorios ya que posee una R^2."
   ]
  },
  {
   "cell_type": "markdown",
   "metadata": {},
   "source": [
    "Responde con su correspondiente margen de error del 95%, ¿cuantos euros incrementa el precio del alquiler por cada metro cuadrado extra del piso?"
   ]
  },
  {
   "cell_type": "code",
   "execution_count": 39,
   "metadata": {},
   "outputs": [
    {
     "data": {
      "text/html": [
       "<style>\n",
       ".dl-inline {width: auto; margin:0; padding: 0}\n",
       ".dl-inline>dt, .dl-inline>dd {float: none; width: auto; display: inline-block}\n",
       ".dl-inline>dt::after {content: \":\\0020\"; padding-right: .5ex}\n",
       ".dl-inline>dt:not(:first-of-type) {padding-left: .5ex}\n",
       "</style><dl class=dl-inline><dt>2.5 %</dt><dd>0.694020052426474</dd><dt>97.5 %</dt><dd>1.26525006235795</dd></dl>\n"
      ],
      "text/latex": [
       "\\begin{description*}\n",
       "\\item[2.5 \\textbackslash{}\\%] 0.694020052426474\n",
       "\\item[97.5 \\textbackslash{}\\%] 1.26525006235795\n",
       "\\end{description*}\n"
      ],
      "text/markdown": [
       "2.5 %\n",
       ":   0.69402005242647497.5 %\n",
       ":   1.26525006235795\n",
       "\n"
      ],
      "text/plain": [
       "    2.5 %    97.5 % \n",
       "0.6940201 1.2652501 "
      ]
     },
     "metadata": {},
     "output_type": "display_data"
    }
   ],
   "source": [
    "model<-lm(barrio_sol,formula=Precio~MetrosCuadrados)\n",
    "confint(model)[\"MetrosCuadrados\",]"
   ]
  },
  {
   "cell_type": "markdown",
   "metadata": {},
   "source": [
    "Responde con su correspondiente margen de error del 95%, ¿cuantos euros incrementa el precio del alquiler por cada habitación?"
   ]
  },
  {
   "cell_type": "code",
   "execution_count": 40,
   "metadata": {},
   "outputs": [
    {
     "data": {
      "text/html": [
       "<style>\n",
       ".dl-inline {width: auto; margin:0; padding: 0}\n",
       ".dl-inline>dt, .dl-inline>dd {float: none; width: auto; display: inline-block}\n",
       ".dl-inline>dt::after {content: \":\\0020\"; padding-right: .5ex}\n",
       ".dl-inline>dt:not(:first-of-type) {padding-left: .5ex}\n",
       "</style><dl class=dl-inline><dt>2.5 %</dt><dd>31.1874637434115</dd><dt>97.5 %</dt><dd>47.7809469179902</dd></dl>\n"
      ],
      "text/latex": [
       "\\begin{description*}\n",
       "\\item[2.5 \\textbackslash{}\\%] 31.1874637434115\n",
       "\\item[97.5 \\textbackslash{}\\%] 47.7809469179902\n",
       "\\end{description*}\n"
      ],
      "text/markdown": [
       "2.5 %\n",
       ":   31.187463743411597.5 %\n",
       ":   47.7809469179902\n",
       "\n"
      ],
      "text/plain": [
       "   2.5 %   97.5 % \n",
       "31.18746 47.78095 "
      ]
     },
     "metadata": {},
     "output_type": "display_data"
    }
   ],
   "source": [
    "model<-lm(barrio_sol,formula=Precio~NumDormitorios)\n",
    "confint(model)[\"NumDormitorios\",]"
   ]
  },
  {
   "cell_type": "markdown",
   "metadata": {},
   "source": [
    "¿Cual es la probabilidad de encontrar, en el barrio de Sol, un apartamento en alquiler con 3 dormitorios?\n",
    "¿Cual es el intervalo de confianza de esa probabilidad?"
   ]
  },
  {
   "cell_type": "code",
   "execution_count": 44,
   "metadata": {},
   "outputs": [],
   "source": [
    "dorm3<-sum(barrio_sol$NumDormitorios ==3)\n",
    "\n"
   ]
  },
  {
   "cell_type": "code",
   "execution_count": 45,
   "metadata": {},
   "outputs": [],
   "source": [
    "total <- nrow(barrio_sol)"
   ]
  },
  {
   "cell_type": "code",
   "execution_count": 48,
   "metadata": {},
   "outputs": [
    {
     "name": "stdout",
     "output_type": "stream",
     "text": [
      "[1] 0.08571429\n"
     ]
    }
   ],
   "source": [
    "#Probabiliad\n",
    "prob <-(dorm3/total)\n",
    "print(prob)"
   ]
  },
  {
   "cell_type": "code",
   "execution_count": 50,
   "metadata": {},
   "outputs": [
    {
     "data": {
      "text/html": [
       "<style>\n",
       ".list-inline {list-style: none; margin:0; padding: 0}\n",
       ".list-inline>li {display: inline-block}\n",
       ".list-inline>li:not(:last-child)::after {content: \"\\00b7\"; padding: 0 .5ex}\n",
       "</style>\n",
       "<ol class=list-inline><li>0.0180376398142175</li><li>0.230575018658877</li></ol>\n"
      ],
      "text/latex": [
       "\\begin{enumerate*}\n",
       "\\item 0.0180376398142175\n",
       "\\item 0.230575018658877\n",
       "\\end{enumerate*}\n"
      ],
      "text/markdown": [
       "1. 0.0180376398142175\n",
       "2. 0.230575018658877\n",
       "\n",
       "\n"
      ],
      "text/plain": [
       "[1] 0.01803764 0.23057502\n",
       "attr(,\"conf.level\")\n",
       "[1] 0.95"
      ]
     },
     "metadata": {},
     "output_type": "display_data"
    }
   ],
   "source": [
    "#Intervalo de confianza\n",
    "binom.test(dorm3,total)$conf"
   ]
  }
 ],
 "metadata": {
  "kernelspec": {
   "display_name": "R",
   "language": "R",
   "name": "ir"
  },
  "language_info": {
   "codemirror_mode": "r",
   "file_extension": ".r",
   "mimetype": "text/x-r-source",
   "name": "R",
   "pygments_lexer": "r",
   "version": "4.1.0"
  }
 },
 "nbformat": 4,
 "nbformat_minor": 2
}
